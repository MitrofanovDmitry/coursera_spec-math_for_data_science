{
 "cells": [
  {
   "cell_type": "code",
   "execution_count": 1,
   "id": "aa22cb90-bd13-4adc-b448-8590256a4672",
   "metadata": {},
   "outputs": [],
   "source": [
    "import numpy as np\n",
    "import pandas as pd\n",
    "import seaborn as sns\n",
    "from numpy.linalg import inv, solve\n",
    "from sklearn.linear_model import LinearRegression"
   ]
  },
  {
   "cell_type": "code",
   "execution_count": 4,
   "id": "7ed70a7d-1dca-497e-83dd-10c9181f2986",
   "metadata": {
    "scrolled": true,
    "tags": []
   },
   "outputs": [],
   "source": [
    "poks = pd.read_csv(\"pokemon.csv\")"
   ]
  },
  {
   "cell_type": "markdown",
   "id": "2760c900-6abd-4735-a160-ead8f63f8ef9",
   "metadata": {},
   "source": [
    "# 0. Взглянем на данные"
   ]
  },
  {
   "cell_type": "code",
   "execution_count": 5,
   "id": "e9d9b06b-d474-4ec0-ae44-05fc6e1ad296",
   "metadata": {
    "scrolled": true,
    "tags": []
   },
   "outputs": [
    {
     "data": {
      "text/html": [
       "<div>\n",
       "<style scoped>\n",
       "    .dataframe tbody tr th:only-of-type {\n",
       "        vertical-align: middle;\n",
       "    }\n",
       "\n",
       "    .dataframe tbody tr th {\n",
       "        vertical-align: top;\n",
       "    }\n",
       "\n",
       "    .dataframe thead th {\n",
       "        text-align: right;\n",
       "    }\n",
       "</style>\n",
       "<table border=\"1\" class=\"dataframe\">\n",
       "  <thead>\n",
       "    <tr style=\"text-align: right;\">\n",
       "      <th></th>\n",
       "      <th>count</th>\n",
       "      <th>mean</th>\n",
       "      <th>std</th>\n",
       "      <th>min</th>\n",
       "      <th>25%</th>\n",
       "      <th>50%</th>\n",
       "      <th>75%</th>\n",
       "      <th>max</th>\n",
       "    </tr>\n",
       "  </thead>\n",
       "  <tbody>\n",
       "    <tr>\n",
       "      <th>against_bug</th>\n",
       "      <td>801.0</td>\n",
       "      <td>9.962547e-01</td>\n",
       "      <td>0.597248</td>\n",
       "      <td>0.25</td>\n",
       "      <td>0.5</td>\n",
       "      <td>1.0</td>\n",
       "      <td>1.0</td>\n",
       "      <td>4.0</td>\n",
       "    </tr>\n",
       "    <tr>\n",
       "      <th>against_dark</th>\n",
       "      <td>801.0</td>\n",
       "      <td>1.057116e+00</td>\n",
       "      <td>0.438142</td>\n",
       "      <td>0.25</td>\n",
       "      <td>1.0</td>\n",
       "      <td>1.0</td>\n",
       "      <td>1.0</td>\n",
       "      <td>4.0</td>\n",
       "    </tr>\n",
       "    <tr>\n",
       "      <th>against_dragon</th>\n",
       "      <td>801.0</td>\n",
       "      <td>9.687890e-01</td>\n",
       "      <td>0.353058</td>\n",
       "      <td>0.00</td>\n",
       "      <td>1.0</td>\n",
       "      <td>1.0</td>\n",
       "      <td>1.0</td>\n",
       "      <td>2.0</td>\n",
       "    </tr>\n",
       "    <tr>\n",
       "      <th>against_electric</th>\n",
       "      <td>801.0</td>\n",
       "      <td>1.073970e+00</td>\n",
       "      <td>0.654962</td>\n",
       "      <td>0.00</td>\n",
       "      <td>0.5</td>\n",
       "      <td>1.0</td>\n",
       "      <td>1.0</td>\n",
       "      <td>4.0</td>\n",
       "    </tr>\n",
       "    <tr>\n",
       "      <th>against_fairy</th>\n",
       "      <td>801.0</td>\n",
       "      <td>1.068976e+00</td>\n",
       "      <td>0.522167</td>\n",
       "      <td>0.25</td>\n",
       "      <td>1.0</td>\n",
       "      <td>1.0</td>\n",
       "      <td>1.0</td>\n",
       "      <td>4.0</td>\n",
       "    </tr>\n",
       "    <tr>\n",
       "      <th>against_fight</th>\n",
       "      <td>801.0</td>\n",
       "      <td>1.065543e+00</td>\n",
       "      <td>0.717251</td>\n",
       "      <td>0.00</td>\n",
       "      <td>0.5</td>\n",
       "      <td>1.0</td>\n",
       "      <td>1.0</td>\n",
       "      <td>4.0</td>\n",
       "    </tr>\n",
       "    <tr>\n",
       "      <th>against_fire</th>\n",
       "      <td>801.0</td>\n",
       "      <td>1.135456e+00</td>\n",
       "      <td>0.691853</td>\n",
       "      <td>0.25</td>\n",
       "      <td>0.5</td>\n",
       "      <td>1.0</td>\n",
       "      <td>2.0</td>\n",
       "      <td>4.0</td>\n",
       "    </tr>\n",
       "    <tr>\n",
       "      <th>against_flying</th>\n",
       "      <td>801.0</td>\n",
       "      <td>1.192884e+00</td>\n",
       "      <td>0.604488</td>\n",
       "      <td>0.25</td>\n",
       "      <td>1.0</td>\n",
       "      <td>1.0</td>\n",
       "      <td>1.0</td>\n",
       "      <td>4.0</td>\n",
       "    </tr>\n",
       "    <tr>\n",
       "      <th>against_ghost</th>\n",
       "      <td>801.0</td>\n",
       "      <td>9.850187e-01</td>\n",
       "      <td>0.558256</td>\n",
       "      <td>0.00</td>\n",
       "      <td>1.0</td>\n",
       "      <td>1.0</td>\n",
       "      <td>1.0</td>\n",
       "      <td>4.0</td>\n",
       "    </tr>\n",
       "    <tr>\n",
       "      <th>against_grass</th>\n",
       "      <td>801.0</td>\n",
       "      <td>1.034020e+00</td>\n",
       "      <td>0.788896</td>\n",
       "      <td>0.25</td>\n",
       "      <td>0.5</td>\n",
       "      <td>1.0</td>\n",
       "      <td>1.0</td>\n",
       "      <td>4.0</td>\n",
       "    </tr>\n",
       "    <tr>\n",
       "      <th>against_ground</th>\n",
       "      <td>801.0</td>\n",
       "      <td>1.098002e+00</td>\n",
       "      <td>0.738818</td>\n",
       "      <td>0.00</td>\n",
       "      <td>1.0</td>\n",
       "      <td>1.0</td>\n",
       "      <td>1.0</td>\n",
       "      <td>4.0</td>\n",
       "    </tr>\n",
       "    <tr>\n",
       "      <th>against_ice</th>\n",
       "      <td>801.0</td>\n",
       "      <td>1.208177e+00</td>\n",
       "      <td>0.735356</td>\n",
       "      <td>0.25</td>\n",
       "      <td>0.5</td>\n",
       "      <td>1.0</td>\n",
       "      <td>2.0</td>\n",
       "      <td>4.0</td>\n",
       "    </tr>\n",
       "    <tr>\n",
       "      <th>against_normal</th>\n",
       "      <td>801.0</td>\n",
       "      <td>8.870162e-01</td>\n",
       "      <td>0.266106</td>\n",
       "      <td>0.00</td>\n",
       "      <td>1.0</td>\n",
       "      <td>1.0</td>\n",
       "      <td>1.0</td>\n",
       "      <td>1.0</td>\n",
       "    </tr>\n",
       "    <tr>\n",
       "      <th>against_poison</th>\n",
       "      <td>801.0</td>\n",
       "      <td>9.753433e-01</td>\n",
       "      <td>0.549375</td>\n",
       "      <td>0.00</td>\n",
       "      <td>0.5</td>\n",
       "      <td>1.0</td>\n",
       "      <td>1.0</td>\n",
       "      <td>4.0</td>\n",
       "    </tr>\n",
       "    <tr>\n",
       "      <th>against_psychic</th>\n",
       "      <td>801.0</td>\n",
       "      <td>1.005306e+00</td>\n",
       "      <td>0.495183</td>\n",
       "      <td>0.00</td>\n",
       "      <td>1.0</td>\n",
       "      <td>1.0</td>\n",
       "      <td>1.0</td>\n",
       "      <td>4.0</td>\n",
       "    </tr>\n",
       "    <tr>\n",
       "      <th>against_rock</th>\n",
       "      <td>801.0</td>\n",
       "      <td>1.250312e+00</td>\n",
       "      <td>0.697148</td>\n",
       "      <td>0.25</td>\n",
       "      <td>1.0</td>\n",
       "      <td>1.0</td>\n",
       "      <td>2.0</td>\n",
       "      <td>4.0</td>\n",
       "    </tr>\n",
       "    <tr>\n",
       "      <th>against_steel</th>\n",
       "      <td>801.0</td>\n",
       "      <td>9.834582e-01</td>\n",
       "      <td>0.500117</td>\n",
       "      <td>0.25</td>\n",
       "      <td>0.5</td>\n",
       "      <td>1.0</td>\n",
       "      <td>1.0</td>\n",
       "      <td>4.0</td>\n",
       "    </tr>\n",
       "    <tr>\n",
       "      <th>against_water</th>\n",
       "      <td>801.0</td>\n",
       "      <td>1.058365e+00</td>\n",
       "      <td>0.606562</td>\n",
       "      <td>0.25</td>\n",
       "      <td>0.5</td>\n",
       "      <td>1.0</td>\n",
       "      <td>1.0</td>\n",
       "      <td>4.0</td>\n",
       "    </tr>\n",
       "    <tr>\n",
       "      <th>attack</th>\n",
       "      <td>801.0</td>\n",
       "      <td>7.785768e+01</td>\n",
       "      <td>32.158820</td>\n",
       "      <td>5.00</td>\n",
       "      <td>55.0</td>\n",
       "      <td>75.0</td>\n",
       "      <td>100.0</td>\n",
       "      <td>185.0</td>\n",
       "    </tr>\n",
       "    <tr>\n",
       "      <th>base_egg_steps</th>\n",
       "      <td>801.0</td>\n",
       "      <td>7.191011e+03</td>\n",
       "      <td>6558.220422</td>\n",
       "      <td>1280.00</td>\n",
       "      <td>5120.0</td>\n",
       "      <td>5120.0</td>\n",
       "      <td>6400.0</td>\n",
       "      <td>30720.0</td>\n",
       "    </tr>\n",
       "    <tr>\n",
       "      <th>base_happiness</th>\n",
       "      <td>801.0</td>\n",
       "      <td>6.536205e+01</td>\n",
       "      <td>19.598948</td>\n",
       "      <td>0.00</td>\n",
       "      <td>70.0</td>\n",
       "      <td>70.0</td>\n",
       "      <td>70.0</td>\n",
       "      <td>140.0</td>\n",
       "    </tr>\n",
       "    <tr>\n",
       "      <th>base_total</th>\n",
       "      <td>801.0</td>\n",
       "      <td>4.283770e+02</td>\n",
       "      <td>119.203577</td>\n",
       "      <td>180.00</td>\n",
       "      <td>320.0</td>\n",
       "      <td>435.0</td>\n",
       "      <td>505.0</td>\n",
       "      <td>780.0</td>\n",
       "    </tr>\n",
       "    <tr>\n",
       "      <th>defense</th>\n",
       "      <td>801.0</td>\n",
       "      <td>7.300874e+01</td>\n",
       "      <td>30.769159</td>\n",
       "      <td>5.00</td>\n",
       "      <td>50.0</td>\n",
       "      <td>70.0</td>\n",
       "      <td>90.0</td>\n",
       "      <td>230.0</td>\n",
       "    </tr>\n",
       "    <tr>\n",
       "      <th>experience_growth</th>\n",
       "      <td>801.0</td>\n",
       "      <td>1.054996e+06</td>\n",
       "      <td>160255.835096</td>\n",
       "      <td>600000.00</td>\n",
       "      <td>1000000.0</td>\n",
       "      <td>1000000.0</td>\n",
       "      <td>1059860.0</td>\n",
       "      <td>1640000.0</td>\n",
       "    </tr>\n",
       "    <tr>\n",
       "      <th>height_m</th>\n",
       "      <td>781.0</td>\n",
       "      <td>1.163892e+00</td>\n",
       "      <td>1.080326</td>\n",
       "      <td>0.10</td>\n",
       "      <td>0.6</td>\n",
       "      <td>1.0</td>\n",
       "      <td>1.5</td>\n",
       "      <td>14.5</td>\n",
       "    </tr>\n",
       "    <tr>\n",
       "      <th>hp</th>\n",
       "      <td>801.0</td>\n",
       "      <td>6.895880e+01</td>\n",
       "      <td>26.576015</td>\n",
       "      <td>1.00</td>\n",
       "      <td>50.0</td>\n",
       "      <td>65.0</td>\n",
       "      <td>80.0</td>\n",
       "      <td>255.0</td>\n",
       "    </tr>\n",
       "    <tr>\n",
       "      <th>percentage_male</th>\n",
       "      <td>703.0</td>\n",
       "      <td>5.515576e+01</td>\n",
       "      <td>20.261623</td>\n",
       "      <td>0.00</td>\n",
       "      <td>50.0</td>\n",
       "      <td>50.0</td>\n",
       "      <td>50.0</td>\n",
       "      <td>100.0</td>\n",
       "    </tr>\n",
       "    <tr>\n",
       "      <th>pokedex_number</th>\n",
       "      <td>801.0</td>\n",
       "      <td>4.010000e+02</td>\n",
       "      <td>231.373075</td>\n",
       "      <td>1.00</td>\n",
       "      <td>201.0</td>\n",
       "      <td>401.0</td>\n",
       "      <td>601.0</td>\n",
       "      <td>801.0</td>\n",
       "    </tr>\n",
       "    <tr>\n",
       "      <th>sp_attack</th>\n",
       "      <td>801.0</td>\n",
       "      <td>7.130587e+01</td>\n",
       "      <td>32.353826</td>\n",
       "      <td>10.00</td>\n",
       "      <td>45.0</td>\n",
       "      <td>65.0</td>\n",
       "      <td>91.0</td>\n",
       "      <td>194.0</td>\n",
       "    </tr>\n",
       "    <tr>\n",
       "      <th>sp_defense</th>\n",
       "      <td>801.0</td>\n",
       "      <td>7.091136e+01</td>\n",
       "      <td>27.942501</td>\n",
       "      <td>20.00</td>\n",
       "      <td>50.0</td>\n",
       "      <td>66.0</td>\n",
       "      <td>90.0</td>\n",
       "      <td>230.0</td>\n",
       "    </tr>\n",
       "    <tr>\n",
       "      <th>speed</th>\n",
       "      <td>801.0</td>\n",
       "      <td>6.633458e+01</td>\n",
       "      <td>28.907662</td>\n",
       "      <td>5.00</td>\n",
       "      <td>45.0</td>\n",
       "      <td>65.0</td>\n",
       "      <td>85.0</td>\n",
       "      <td>180.0</td>\n",
       "    </tr>\n",
       "    <tr>\n",
       "      <th>weight_kg</th>\n",
       "      <td>781.0</td>\n",
       "      <td>6.137810e+01</td>\n",
       "      <td>109.354766</td>\n",
       "      <td>0.10</td>\n",
       "      <td>9.0</td>\n",
       "      <td>27.3</td>\n",
       "      <td>64.8</td>\n",
       "      <td>999.9</td>\n",
       "    </tr>\n",
       "    <tr>\n",
       "      <th>generation</th>\n",
       "      <td>801.0</td>\n",
       "      <td>3.690387e+00</td>\n",
       "      <td>1.930420</td>\n",
       "      <td>1.00</td>\n",
       "      <td>2.0</td>\n",
       "      <td>4.0</td>\n",
       "      <td>5.0</td>\n",
       "      <td>7.0</td>\n",
       "    </tr>\n",
       "    <tr>\n",
       "      <th>is_legendary</th>\n",
       "      <td>801.0</td>\n",
       "      <td>8.739076e-02</td>\n",
       "      <td>0.282583</td>\n",
       "      <td>0.00</td>\n",
       "      <td>0.0</td>\n",
       "      <td>0.0</td>\n",
       "      <td>0.0</td>\n",
       "      <td>1.0</td>\n",
       "    </tr>\n",
       "  </tbody>\n",
       "</table>\n",
       "</div>"
      ],
      "text/plain": [
       "                   count          mean            std        min        25%  \\\n",
       "against_bug        801.0  9.962547e-01       0.597248       0.25        0.5   \n",
       "against_dark       801.0  1.057116e+00       0.438142       0.25        1.0   \n",
       "against_dragon     801.0  9.687890e-01       0.353058       0.00        1.0   \n",
       "against_electric   801.0  1.073970e+00       0.654962       0.00        0.5   \n",
       "against_fairy      801.0  1.068976e+00       0.522167       0.25        1.0   \n",
       "against_fight      801.0  1.065543e+00       0.717251       0.00        0.5   \n",
       "against_fire       801.0  1.135456e+00       0.691853       0.25        0.5   \n",
       "against_flying     801.0  1.192884e+00       0.604488       0.25        1.0   \n",
       "against_ghost      801.0  9.850187e-01       0.558256       0.00        1.0   \n",
       "against_grass      801.0  1.034020e+00       0.788896       0.25        0.5   \n",
       "against_ground     801.0  1.098002e+00       0.738818       0.00        1.0   \n",
       "against_ice        801.0  1.208177e+00       0.735356       0.25        0.5   \n",
       "against_normal     801.0  8.870162e-01       0.266106       0.00        1.0   \n",
       "against_poison     801.0  9.753433e-01       0.549375       0.00        0.5   \n",
       "against_psychic    801.0  1.005306e+00       0.495183       0.00        1.0   \n",
       "against_rock       801.0  1.250312e+00       0.697148       0.25        1.0   \n",
       "against_steel      801.0  9.834582e-01       0.500117       0.25        0.5   \n",
       "against_water      801.0  1.058365e+00       0.606562       0.25        0.5   \n",
       "attack             801.0  7.785768e+01      32.158820       5.00       55.0   \n",
       "base_egg_steps     801.0  7.191011e+03    6558.220422    1280.00     5120.0   \n",
       "base_happiness     801.0  6.536205e+01      19.598948       0.00       70.0   \n",
       "base_total         801.0  4.283770e+02     119.203577     180.00      320.0   \n",
       "defense            801.0  7.300874e+01      30.769159       5.00       50.0   \n",
       "experience_growth  801.0  1.054996e+06  160255.835096  600000.00  1000000.0   \n",
       "height_m           781.0  1.163892e+00       1.080326       0.10        0.6   \n",
       "hp                 801.0  6.895880e+01      26.576015       1.00       50.0   \n",
       "percentage_male    703.0  5.515576e+01      20.261623       0.00       50.0   \n",
       "pokedex_number     801.0  4.010000e+02     231.373075       1.00      201.0   \n",
       "sp_attack          801.0  7.130587e+01      32.353826      10.00       45.0   \n",
       "sp_defense         801.0  7.091136e+01      27.942501      20.00       50.0   \n",
       "speed              801.0  6.633458e+01      28.907662       5.00       45.0   \n",
       "weight_kg          781.0  6.137810e+01     109.354766       0.10        9.0   \n",
       "generation         801.0  3.690387e+00       1.930420       1.00        2.0   \n",
       "is_legendary       801.0  8.739076e-02       0.282583       0.00        0.0   \n",
       "\n",
       "                         50%        75%        max  \n",
       "against_bug              1.0        1.0        4.0  \n",
       "against_dark             1.0        1.0        4.0  \n",
       "against_dragon           1.0        1.0        2.0  \n",
       "against_electric         1.0        1.0        4.0  \n",
       "against_fairy            1.0        1.0        4.0  \n",
       "against_fight            1.0        1.0        4.0  \n",
       "against_fire             1.0        2.0        4.0  \n",
       "against_flying           1.0        1.0        4.0  \n",
       "against_ghost            1.0        1.0        4.0  \n",
       "against_grass            1.0        1.0        4.0  \n",
       "against_ground           1.0        1.0        4.0  \n",
       "against_ice              1.0        2.0        4.0  \n",
       "against_normal           1.0        1.0        1.0  \n",
       "against_poison           1.0        1.0        4.0  \n",
       "against_psychic          1.0        1.0        4.0  \n",
       "against_rock             1.0        2.0        4.0  \n",
       "against_steel            1.0        1.0        4.0  \n",
       "against_water            1.0        1.0        4.0  \n",
       "attack                  75.0      100.0      185.0  \n",
       "base_egg_steps        5120.0     6400.0    30720.0  \n",
       "base_happiness          70.0       70.0      140.0  \n",
       "base_total             435.0      505.0      780.0  \n",
       "defense                 70.0       90.0      230.0  \n",
       "experience_growth  1000000.0  1059860.0  1640000.0  \n",
       "height_m                 1.0        1.5       14.5  \n",
       "hp                      65.0       80.0      255.0  \n",
       "percentage_male         50.0       50.0      100.0  \n",
       "pokedex_number         401.0      601.0      801.0  \n",
       "sp_attack               65.0       91.0      194.0  \n",
       "sp_defense              66.0       90.0      230.0  \n",
       "speed                   65.0       85.0      180.0  \n",
       "weight_kg               27.3       64.8      999.9  \n",
       "generation               4.0        5.0        7.0  \n",
       "is_legendary             0.0        0.0        1.0  "
      ]
     },
     "execution_count": 5,
     "metadata": {},
     "output_type": "execute_result"
    }
   ],
   "source": [
    "poks.describe().T"
   ]
  },
  {
   "cell_type": "code",
   "execution_count": 7,
   "id": "b33acde8-51d9-42ca-a76d-83542119cdc6",
   "metadata": {},
   "outputs": [
    {
     "data": {
      "image/png": "[encoded data removed]",
      "text/plain": [
       "<Figure size 432x432 with 3 Axes>"
      ]
     },
     "metadata": {
      "needs_background": "light"
     },
     "output_type": "display_data"
    }
   ],
   "source": [
    "sns.jointplot(data=poks, x=\"defense\", y=\"attack\");"
   ]
  },
  {
   "cell_type": "code",
   "execution_count": 8,
   "id": "19f4f790-ef46-4915-b726-e7f23d9f9c80",
   "metadata": {},
   "outputs": [
    {
     "data": {
      "image/png": "[encoded data removed]",
      "text/plain": [
       "<Figure size 432x432 with 3 Axes>"
      ]
     },
     "metadata": {
      "needs_background": "light"
     },
     "output_type": "display_data"
    }
   ],
   "source": [
    "sns.jointplot(data=poks, x=\"speed\", y=\"attack\");"
   ]
  },
  {
   "cell_type": "markdown",
   "id": "d80cc665-5cc1-401b-9a0a-e5bfc29e23f7",
   "metadata": {},
   "source": [
    "# 1. Проекция по формулам"
   ]
  },
  {
   "cell_type": "code",
   "execution_count": 11,
   "id": "19beae1e-0d84-475c-8a03-61008b024910",
   "metadata": {},
   "outputs": [],
   "source": [
    "y = poks[\"attack\"]\n",
    "X = poks[[\"defense\", \"speed\"]]"
   ]
  },
  {
   "cell_type": "code",
   "execution_count": 12,
   "id": "c04d02f2-bc09-4579-96cd-9fd7b92db297",
   "metadata": {},
   "outputs": [
    {
     "data": {
      "text/plain": [
       "(801, 2)"
      ]
     },
     "execution_count": 12,
     "metadata": {},
     "output_type": "execute_result"
    }
   ],
   "source": [
    "X.shape"
   ]
  },
  {
   "cell_type": "code",
   "execution_count": 13,
   "id": "b44cebbe-7fd8-414f-9ec9-336575cae633",
   "metadata": {},
   "outputs": [],
   "source": [
    "ones = np.ones((801, 1))"
   ]
  },
  {
   "cell_type": "code",
   "execution_count": 14,
   "id": "1eb0c28f-7594-4865-82b1-01bdd8b7248b",
   "metadata": {},
   "outputs": [],
   "source": [
    "X = np.hstack((ones, X))"
   ]
  },
  {
   "cell_type": "code",
   "execution_count": 15,
   "id": "ca110027-a93d-4c94-8233-9a6ec3b24e29",
   "metadata": {},
   "outputs": [
    {
     "data": {
      "text/plain": [
       "array([[  1.,  49.,  45.],\n",
       "       [  1.,  63.,  60.],\n",
       "       [  1., 123.,  80.],\n",
       "       [  1.,  43.,  65.],\n",
       "       [  1.,  58.,  80.],\n",
       "       [  1.,  78., 100.],\n",
       "       [  1.,  65.,  43.],\n",
       "       [  1.,  80.,  58.],\n",
       "       [  1., 120.,  78.],\n",
       "       [  1.,  35.,  45.]])"
      ]
     },
     "execution_count": 15,
     "metadata": {},
     "output_type": "execute_result"
    }
   ],
   "source": [
    "X[:10, :]"
   ]
  },
  {
   "cell_type": "code",
   "execution_count": 16,
   "id": "c4bc1eb9-de5a-4292-b90f-fa2892d22f31",
   "metadata": {},
   "outputs": [],
   "source": [
    "XtX = X.T @ X\n",
    "Xty = X.T @ y"
   ]
  },
  {
   "cell_type": "code",
   "execution_count": 22,
   "id": "a78ff845-1abf-403f-9e27-c5e8804a5725",
   "metadata": {},
   "outputs": [
    {
     "data": {
      "text/plain": [
       "array([16.53312028,  0.48719894,  0.38825567])"
      ]
     },
     "execution_count": 22,
     "metadata": {},
     "output_type": "execute_result"
    }
   ],
   "source": [
    "# 1 вариант, более стабильный\n",
    "v = solve(XtX, Xty)\n",
    "v"
   ]
  },
  {
   "cell_type": "code",
   "execution_count": 23,
   "id": "a7a4e7a0-d6b5-4d36-8f4e-bc4980a57259",
   "metadata": {},
   "outputs": [
    {
     "data": {
      "text/plain": [
       "array([16.53312028,  0.48719894,  0.38825567])"
      ]
     },
     "execution_count": 23,
     "metadata": {},
     "output_type": "execute_result"
    }
   ],
   "source": [
    "# 2 вариант, менее стабильный\n",
    "v = inv(XtX) @ Xty\n",
    "v"
   ]
  },
  {
   "cell_type": "code",
   "execution_count": 24,
   "id": "341b060b-aa6c-46d5-aa08-6410cb4708fc",
   "metadata": {},
   "outputs": [
    {
     "data": {
      "text/plain": [
       "1.9936123862862587e-09"
      ]
     },
     "execution_count": 24,
     "metadata": {},
     "output_type": "execute_result"
    }
   ],
   "source": [
    "y_hat = X @ v\n",
    "(y - y_hat) @ poks[\"defense\"]"
   ]
  },
  {
   "cell_type": "code",
   "execution_count": 26,
   "id": "a2e2d641-6407-4cfb-b39b-1df6c32fcb4d",
   "metadata": {},
   "outputs": [
    {
     "data": {
      "text/plain": [
       "66.89116213355395"
      ]
     },
     "execution_count": 26,
     "metadata": {},
     "output_type": "execute_result"
    }
   ],
   "source": [
    "# Построим прогноз для нового объекта\n",
    "new_pokemon = np.array((1, 42, 77))\n",
    "new_pokemon @ v"
   ]
  },
  {
   "cell_type": "markdown",
   "id": "65623607-e216-4e57-81e3-b9a6468a124d",
   "metadata": {},
   "source": [
    "# 2. Проекция с помощью боевого инструмента"
   ]
  },
  {
   "cell_type": "code",
   "execution_count": 27,
   "id": "70801222-4caf-4a27-a101-3beadc8c6b8d",
   "metadata": {},
   "outputs": [
    {
     "data": {
      "text/plain": [
       "LinearRegression()"
      ]
     },
     "execution_count": 27,
     "metadata": {},
     "output_type": "execute_result"
    }
   ],
   "source": [
    "reg = LinearRegression()\n",
    "X = poks[[\"defense\", \"speed\"]]\n",
    "reg.fit(X, y)"
   ]
  },
  {
   "cell_type": "code",
   "execution_count": 28,
   "id": "87a7e2e0-3b33-4930-a1b1-0f65381bb9c9",
   "metadata": {},
   "outputs": [
    {
     "data": {
      "text/plain": [
       "array([0.48719894, 0.38825567])"
      ]
     },
     "execution_count": 28,
     "metadata": {},
     "output_type": "execute_result"
    }
   ],
   "source": [
    "reg.coef_"
   ]
  },
  {
   "cell_type": "code",
   "execution_count": 30,
   "id": "8b76708c-427c-4feb-9351-cd6e516b3213",
   "metadata": {},
   "outputs": [
    {
     "data": {
      "text/plain": [
       "16.533120282305816"
      ]
     },
     "execution_count": 30,
     "metadata": {},
     "output_type": "execute_result"
    }
   ],
   "source": [
    "reg.intercept_"
   ]
  },
  {
   "cell_type": "code",
   "execution_count": 32,
   "id": "0a3914a4-9156-4e9e-b68d-6cbd99306035",
   "metadata": {},
   "outputs": [
    {
     "data": {
      "text/plain": [
       "array([66.89116213])"
      ]
     },
     "execution_count": 32,
     "metadata": {},
     "output_type": "execute_result"
    }
   ],
   "source": [
    "new_pokemon = pd.DataFrame({\"defense\": [42], \n",
    "                            \"speed\": [77]})\n",
    "reg.predict(new_pokemon)"
   ]
  },
  {
   "cell_type": "code",
   "execution_count": 35,
   "id": "c69a9b6a-191e-43f3-b3b2-b24cf34a9409",
   "metadata": {},
   "outputs": [
    {
     "data": {
      "image/png": "[encoded data removed]",
      "text/plain": [
       "<Figure size 432x432 with 3 Axes>"
      ]
     },
     "metadata": {
      "needs_background": "light"
     },
     "output_type": "display_data"
    }
   ],
   "source": [
    "y_hat = reg.predict(X)\n",
    "poks[\"y_hat\"] = y_hat\n",
    "sns.jointplot(data=poks, x=\"attack\", y=\"y_hat\");"
   ]
  }
 ],
 "metadata": {
  "kernelspec": {
   "display_name": "handson-ml2",
   "language": "python",
   "name": "handson-ml2"
  },
  "language_info": {
   "codemirror_mode": {
    "name": "ipython",
    "version": 3
   },
   "file_extension": ".py",
   "mimetype": "text/x-python",
   "name": "python",
   "nbconvert_exporter": "python",
   "pygments_lexer": "ipython3",
   "version": "3.7.10"
  }
 },
 "nbformat": 4,
 "nbformat_minor": 5
}
