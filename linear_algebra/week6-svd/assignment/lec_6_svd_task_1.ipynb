{
 "cells": [
  {
   "cell_type": "markdown",
   "metadata": {},
   "source": [
    "## Задачи по программированию к лекции 6"
   ]
  },
  {
   "cell_type": "markdown",
   "metadata": {},
   "source": [
    "В этой лабораторной рабораторной работе мы сравним два метода оценивания параметров регрессионных моделей метод наименьших квадратов (OLS, ordinary least squares) и метод наименьших полных квадратов (TLS, total least squares). Для этого загрузим `numpy`. Для удобства работы с массивами данных можно также воспользоваться модулем `pandas`."
   ]
  },
  {
   "cell_type": "code",
   "execution_count": 1,
   "metadata": {
    "ExecuteTime": {
     "end_time": "2020-12-23T05:34:01.552944Z",
     "start_time": "2020-12-23T05:34:01.548756Z"
    }
   },
   "outputs": [],
   "source": [
    "import numpy as np\n",
    "import numpy.random as npr\n",
    "import numpy.linalg as la\n",
    "import matplotlib.pyplot as plt\n",
    "import pandas as pd\n",
    "%matplotlib inline"
   ]
  },
  {
   "cell_type": "markdown",
   "metadata": {},
   "source": [
    "### Задача 1. OLS vs TLS "
   ]
  },
  {
   "cell_type": "markdown",
   "metadata": {},
   "source": [
    "В отличие от обчного метода МНК (OLS), метод наименьших полных квадратов (TLS) учитывает ошибки как в зависимых, так и в независимых переменных. На рисунке ниже также представлен метод Data Least squares (DLS), который учитывает ошибки только по независимым переменным."
   ]
  },
  {
   "cell_type": "markdown",
   "metadata": {},
   "source": [
    "![image.png](image.png)"
   ]
  },
  {
   "cell_type": "markdown",
   "metadata": {},
   "source": [
    "Для начала сгенерируем данные и визуоизируем их. Задача заключается в том, чтобы оценить вектор `beta` с помощью OLS и TLS."
   ]
  },
  {
   "cell_type": "code",
   "execution_count": 2,
   "metadata": {
    "ExecuteTime": {
     "end_time": "2020-12-23T05:39:33.887469Z",
     "start_time": "2020-12-23T05:39:33.787628Z"
    },
    "scrolled": true
   },
   "outputs": [
    {
     "data": {
      "text/plain": [
       "<matplotlib.collections.PathCollection at 0x7fdc146b25d0>"
      ]
     },
     "execution_count": 2,
     "metadata": {},
     "output_type": "execute_result"
    },
    {
     "data": {
      "image/png": "[encoded data removed]",
      "text/plain": [
       "<Figure size 432x288 with 1 Axes>"
      ]
     },
     "metadata": {
      "needs_background": "light"
     },
     "output_type": "display_data"
    }
   ],
   "source": [
    "x = np.random.uniform(-10,10,100)\n",
    "u = np.random.normal(0,1,100)\n",
    "beta = [2,-1,0.2]\n",
    "y = beta[0] - beta[1]*x + beta[2]*x**2 + u \n",
    "plt.scatter(x,y)"
   ]
  },
  {
   "cell_type": "markdown",
   "metadata": {},
   "source": [
    "Создайте матрицу `X`: первая колонка &mdash; вектор из единиц, вторая колонка &mdash; $x$, третья колонка &mdash; $x^2$"
   ]
  },
  {
   "cell_type": "code",
   "execution_count": 3,
   "metadata": {
    "ExecuteTime": {
     "end_time": "2020-12-23T05:39:43.982472Z",
     "start_time": "2020-12-23T05:39:43.974421Z"
    },
    "deletable": false,
    "nbgrader": {
     "cell_type": "code",
     "checksum": "9ab00e5fd7508470ab2476a23574d9da",
     "grade": false,
     "grade_id": "cell-452a071e3b0c3fd5",
     "locked": false,
     "schema_version": 3,
     "solution": true,
     "task": false
    }
   },
   "outputs": [],
   "source": [
    "X = np.ones((3, x.shape[0]))\n",
    "X[1] = x\n",
    "X[2] = x**2\n",
    "X = X.T"
   ]
  },
  {
   "cell_type": "markdown",
   "metadata": {},
   "source": [
    "#### OLS"
   ]
  },
  {
   "cell_type": "markdown",
   "metadata": {
    "ExecuteTime": {
     "end_time": "2020-12-23T05:39:58.296548Z",
     "start_time": "2020-12-23T05:39:58.291424Z"
    }
   },
   "source": [
    "Напишите функцию, на входе у которой матрицы `X` и `y`, на выходе вектор `b`, где $b_{OLS} = (X'X)^{-1}X'y$. "
   ]
  },
  {
   "cell_type": "code",
   "execution_count": 4,
   "metadata": {
    "ExecuteTime": {
     "end_time": "2020-12-23T05:43:23.094496Z",
     "start_time": "2020-12-23T05:43:23.092118Z"
    },
    "deletable": false,
    "nbgrader": {
     "cell_type": "code",
     "checksum": "417e31056106d5038833e505596ed0d9",
     "grade": false,
     "grade_id": "cell-9cb94da844b792ea",
     "locked": false,
     "schema_version": 3,
     "solution": true,
     "task": false
    }
   },
   "outputs": [],
   "source": [
    "from numpy.linalg import inv\n",
    "\n",
    "def ols_est(X, y):\n",
    "    return inv(X.T @ X) @ X.T @ y"
   ]
  },
  {
   "cell_type": "code",
   "execution_count": 5,
   "metadata": {
    "ExecuteTime": {
     "end_time": "2020-12-23T05:44:52.149064Z",
     "start_time": "2020-12-23T05:44:52.145982Z"
    },
    "deletable": false,
    "editable": false,
    "nbgrader": {
     "cell_type": "code",
     "checksum": "e64f92bedf287e241ac83693fb246684",
     "grade": true,
     "grade_id": "cell-df7d514c6ebfae89",
     "locked": true,
     "points": 2,
     "schema_version": 3,
     "solution": false,
     "task": false
    }
   },
   "outputs": [],
   "source": [
    "answer = ols_est(X,y)\n"
   ]
  },
  {
   "cell_type": "code",
   "execution_count": 6,
   "metadata": {
    "ExecuteTime": {
     "end_time": "2020-12-23T05:53:27.284454Z",
     "start_time": "2020-12-23T05:53:27.174317Z"
    }
   },
   "outputs": [
    {
     "data": {
      "text/plain": [
       "<matplotlib.collections.PathCollection at 0x7fdc145edd10>"
      ]
     },
     "execution_count": 6,
     "metadata": {},
     "output_type": "execute_result"
    },
    {
     "data": {
      "image/png": "[encoded data removed]",
      "text/plain": [
       "<Figure size 432x288 with 1 Axes>"
      ]
     },
     "metadata": {
      "needs_background": "light"
     },
     "output_type": "display_data"
    }
   ],
   "source": [
    "b = ols_est(X,y)\n",
    "yest_ols = np.array([b[2]*v**2 + b[1]*v + b[0] for v in X.T[1]])\n",
    "plt.scatter(X[:,1],yest_ols)\n",
    "plt.scatter(X[:,1],y)"
   ]
  },
  {
   "cell_type": "markdown",
   "metadata": {},
   "source": [
    "#### TLS"
   ]
  },
  {
   "cell_type": "markdown",
   "metadata": {
    "ExecuteTime": {
     "end_time": "2020-12-23T05:39:58.296548Z",
     "start_time": "2020-12-23T05:39:58.291424Z"
    }
   },
   "source": [
    "Напишите функцию, на входе у которой матрицы `X` и `y`, на выходе вектор `b`, полученнный по TLS:\n",
    "\n",
    "- Шаг 1: Добавить справа столбец `y` к матрице `X` (размерности $n \\times k$), где $k$ -- число регрессоров с константой, $n$ &mdash;  число наблюдений. \n",
    "- Шаг 2: Получить SVD разложение расширенной матрицы `X`.  \n",
    "- Шаг 3: $b_{TLS} = -V_{X Y} V_{yy}^{-1}$, где $V$ &mdash; транспонированная матрица правых сингулярных векторов (размерности  $(k+1)\\times (k+1)$), которую можно представить в виде матрицы из 4 блоков $V_{X X} ($размерности $k \\times k)$, $V_{X y} ($размерности $ k \\times 1)$, $V_{yX} ($размерности $ 1 \\times k)$, $V_{yy} ($размерности $1\\times 1)$.\n",
    "\n",
    "$(*)$ $V_{X y}$ &mdash;  верхний правый блок матрицы $V$, состоящий из первых $k$ строк и последнего $ k+1$-ого   столбца,   $ V_{yy}$ &mdash; нижний правый блок матрицы $V$ ($k+1$ строка, $k+1$ столбец).\n",
    "\n",
    "Подробнее почитать про доказательство этой формулы можно [здесь](http://people.duke.edu/~hpgavin/SystemID/CourseNotes/TotalLeastSquares.pdf)."
   ]
  },
  {
   "cell_type": "code",
   "execution_count": 7,
   "metadata": {
    "ExecuteTime": {
     "end_time": "2020-12-23T05:53:29.744194Z",
     "start_time": "2020-12-23T05:53:29.741180Z"
    },
    "deletable": false,
    "nbgrader": {
     "cell_type": "code",
     "checksum": "e0224211b0ccb32107101f0b9038dbe1",
     "grade": false,
     "grade_id": "cell-72a9f197169211e1",
     "locked": false,
     "schema_version": 3,
     "solution": true,
     "task": false
    }
   },
   "outputs": [],
   "source": [
    "from numpy.linalg import svd\n",
    "\n",
    "\n",
    "def tls_est(X, y):\n",
    "    k = X.shape[1]\n",
    "    X_ = np.c_[X, y]\n",
    "    \n",
    "    U, S, Vt = svd(X_)\n",
    "    \n",
    "    Vt = Vt.T\n",
    "    \n",
    "    Vxy = Vt[:3, k]\n",
    "    Vyy = np.array(Vt[k, k]).reshape(1, 1)\n",
    "\n",
    "    tls = -Vxy * inv(Vyy.reshape(1, 1))\n",
    "    \n",
    "    return tls.flatten()"
   ]
  },
  {
   "cell_type": "code",
   "execution_count": 8,
   "metadata": {
    "ExecuteTime": {
     "end_time": "2020-12-23T06:04:30.904877Z",
     "start_time": "2020-12-23T06:04:30.896692Z"
    },
    "deletable": false,
    "editable": false,
    "nbgrader": {
     "cell_type": "code",
     "checksum": "ea2bc7ccf24b8992b341dcd1100fdafe",
     "grade": true,
     "grade_id": "cell-97bbbd3a57a681c1",
     "locked": true,
     "points": 2,
     "schema_version": 3,
     "solution": false,
     "task": false
    }
   },
   "outputs": [],
   "source": [
    "answer = tls_est(X,y)\n"
   ]
  },
  {
   "cell_type": "code",
   "execution_count": 9,
   "metadata": {
    "ExecuteTime": {
     "end_time": "2020-12-23T06:04:36.633426Z",
     "start_time": "2020-12-23T06:04:36.521824Z"
    }
   },
   "outputs": [
    {
     "data": {
      "text/plain": [
       "<matplotlib.collections.PathCollection at 0x7fdc14570d50>"
      ]
     },
     "execution_count": 9,
     "metadata": {},
     "output_type": "execute_result"
    },
    {
     "data": {
      "image/png": "[encoded data removed]",
      "text/plain": [
       "<Figure size 432x288 with 1 Axes>"
      ]
     },
     "metadata": {
      "needs_background": "light"
     },
     "output_type": "display_data"
    }
   ],
   "source": [
    "b=tls_est(X,y)\n",
    "yest_tls = np.array([b[2]*v**2 + b[1]*v + b[0]  for v in X.T[1]])\n",
    "plt.scatter(X[:,1],yest_tls)\n",
    "plt.scatter(X[:,1],y)"
   ]
  },
  {
   "cell_type": "code",
   "execution_count": null,
   "metadata": {},
   "outputs": [],
   "source": []
  }
 ],
 "metadata": {
  "hide_input": false,
  "kernelspec": {
   "display_name": "Python 3",
   "language": "python",
   "name": "python3"
  },
  "language_info": {
   "codemirror_mode": {
    "name": "ipython",
    "version": 3
   },
   "file_extension": ".py",
   "mimetype": "text/x-python",
   "name": "python",
   "nbconvert_exporter": "python",
   "pygments_lexer": "ipython3",
   "version": "3.7.6"
  },
  "latex_envs": {
   "LaTeX_envs_menu_present": true,
   "autoclose": true,
   "autocomplete": true,
   "bibliofile": "biblio.bib",
   "cite_by": "apalike",
   "current_citInitial": 1,
   "eqLabelWithNumbers": true,
   "eqNumInitial": 1,
   "hotkeys": {
    "equation": "Ctrl-E",
    "itemize": "Ctrl-I"
   },
   "labels_anchors": false,
   "latex_user_defs": false,
   "report_style_numbering": false,
   "user_envs_cfg": false
  },
  "toc": {
   "base_numbering": 1,
   "nav_menu": {},
   "number_sections": true,
   "sideBar": true,
   "skip_h1_title": false,
   "title_cell": "Table of Contents",
   "title_sidebar": "Contents",
   "toc_cell": false,
   "toc_position": {},
   "toc_section_display": true,
   "toc_window_display": false
  },
  "varInspector": {
   "cols": {
    "lenName": 16,
    "lenType": 16,
    "lenVar": 40
   },
   "kernels_config": {
    "python": {
     "delete_cmd_postfix": "",
     "delete_cmd_prefix": "del ",
     "library": "var_list.py",
     "varRefreshCmd": "print(var_dic_list())"
    },
    "r": {
     "delete_cmd_postfix": ") ",
     "delete_cmd_prefix": "rm(",
     "library": "var_list.r",
     "varRefreshCmd": "cat(var_dic_list()) "
    }
   },
   "types_to_exclude": [
    "module",
    "function",
    "builtin_function_or_method",
    "instance",
    "_Feature"
   ],
   "window_display": false
  }
 },
 "nbformat": 4,
 "nbformat_minor": 2
}
