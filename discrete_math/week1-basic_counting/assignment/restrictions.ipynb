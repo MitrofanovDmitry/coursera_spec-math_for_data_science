{
 "cells": [
  {
   "cell_type": "markdown",
   "id": "fbf202a8-ba68-4163-a837-028f454a7360",
   "metadata": {},
   "source": [
    "# Подсчеты на Python\n",
    "\n",
    "В этом ноутбуке нужно решить несколько задач на подсчеты с помощью программ на Python. \n",
    "Во всех задачах мы считаем, что трехзначные, двухзначные и однозначные числа также являются четырехзначными.\n",
    "\n",
    "В первой задаче мы хотим посчитать количество четырехзначных чисел с суммой цифр, равной 20."
   ]
  },
  {
   "cell_type": "code",
   "execution_count": 1,
   "id": "24a0c55a-f5c4-49f3-9831-7d0929205c52",
   "metadata": {},
   "outputs": [],
   "source": [
    "import itertools as it"
   ]
  },
  {
   "cell_type": "code",
   "execution_count": 2,
   "id": "bd3934a9-0c64-472f-8390-24928ea85276",
   "metadata": {},
   "outputs": [
    {
     "name": "stdout",
     "output_type": "stream",
     "text": [
      "633\n"
     ]
    }
   ],
   "source": [
    "def sum20():    \n",
    "    count = 0\n",
    "    for d in it.product(range(10), repeat=4):\n",
    "        if sum(d) == 20:\n",
    "            count +=1\n",
    "        \n",
    "    return count\n",
    "\n",
    "\n",
    "print(sum20())"
   ]
  },
  {
   "cell_type": "markdown",
   "id": "87641bde-2335-4084-9cb8-f429217c395b",
   "metadata": {},
   "source": [
    "В следующей задаче мы хотим посчитать количество четырехзначных чисел с суммой цифрой, делящейся на 7."
   ]
  },
  {
   "cell_type": "code",
   "execution_count": 3,
   "id": "6f6e2a22-6ee6-47a5-9deb-3a7a23520e49",
   "metadata": {},
   "outputs": [
    {
     "name": "stdout",
     "output_type": "stream",
     "text": [
      "1422\n"
     ]
    }
   ],
   "source": [
    "def sum_div_7():    \n",
    "    count = 0\n",
    "    for d in it.product(range(10), repeat=4):\n",
    "        if sum(d) % 7 == 0:\n",
    "            count += 1\n",
    "        \n",
    "    return count\n",
    "\n",
    "\n",
    "print(sum_div_7())"
   ]
  },
  {
   "cell_type": "markdown",
   "id": "e140bc8b-1dae-4bc6-af16-fe9292fec204",
   "metadata": {},
   "source": [
    "В следующей задаче мы хотим посчитать количество четырехзначных чисел, в которых есть ровно две цифры 5."
   ]
  },
  {
   "cell_type": "code",
   "execution_count": 4,
   "id": "71ab50d6-4b83-4ed7-95b4-0a06716960d6",
   "metadata": {},
   "outputs": [
    {
     "name": "stdout",
     "output_type": "stream",
     "text": [
      "486\n"
     ]
    }
   ],
   "source": [
    "def numbers_with_two_5():    \n",
    "    count = 0\n",
    "    for d in it.product(range(10), repeat=4):\n",
    "        if d.count(5) == 2:\n",
    "            count += 1\n",
    "        \n",
    "    return count\n",
    "\n",
    "\n",
    "print(numbers_with_two_5())"
   ]
  },
  {
   "cell_type": "code",
   "execution_count": null,
   "id": "636b805e-cbb4-4bf2-941d-7592378f429f",
   "metadata": {},
   "outputs": [],
   "source": []
  }
 ],
 "metadata": {
  "kernelspec": {
   "display_name": "Python 3",
   "language": "python",
   "name": "python3"
  },
  "language_info": {
   "codemirror_mode": {
    "name": "ipython",
    "version": 3
   },
   "file_extension": ".py",
   "mimetype": "text/x-python",
   "name": "python",
   "nbconvert_exporter": "python",
   "pygments_lexer": "ipython3",
   "version": "3.8.5"
  }
 },
 "nbformat": 4,
 "nbformat_minor": 5
}
