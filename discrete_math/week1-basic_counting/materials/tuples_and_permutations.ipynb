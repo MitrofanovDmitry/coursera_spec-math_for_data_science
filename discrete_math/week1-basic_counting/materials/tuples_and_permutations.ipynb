{
 "cells": [
  {
   "cell_type": "markdown",
   "id": "ceb84432-40a3-4f7f-be17-ec3bfc9b94cb",
   "metadata": {},
   "source": [
    "# Слова и перестановки\n",
    "\n",
    "В этом ноутбуке мы посмотрим на примеры генерации слов и перестановок, а также разберем пример решения задачи комбинаторики с помощью Python"
   ]
  },
  {
   "cell_type": "code",
   "execution_count": 1,
   "id": "6cd06fcc-5a32-4c32-8d9d-04dc1481a7d4",
   "metadata": {},
   "outputs": [
    {
     "name": "stdout",
     "output_type": "stream",
     "text": [
      "{'a', 'b', 'd', 'c', 'e', 'f'}\n",
      "ax ay bx by cx cy "
     ]
    }
   ],
   "source": [
    "# Правило суммы и правило произведения\n",
    "\n",
    "from itertools import product\n",
    "\n",
    "A = {'a', 'b', 'c'}\n",
    "B = {'d', 'e', 'f'}\n",
    "\n",
    "print(A.union(B))\n",
    "\n",
    "for p in product(['a', 'b', 'c'], ['x', 'y']):\n",
    "    print(\"\".join(p), end=\" \")"
   ]
  },
  {
   "cell_type": "code",
   "execution_count": 2,
   "id": "78745f25-9373-49a0-93b1-801bfaaa1b47",
   "metadata": {},
   "outputs": [
    {
     "name": "stdout",
     "output_type": "stream",
     "text": [
      "aaa aab aac aba abb abc aca acb acc baa bab bac bba bbb bbc bca bcb bcc caa cab cac cba cbb cbc cca ccb ccc "
     ]
    }
   ],
   "source": [
    "# Генерируем слова\n",
    "\n",
    "for p in product(\"abc\", repeat=3):\n",
    "    print(\"\".join(p), end=\" \")"
   ]
  },
  {
   "cell_type": "code",
   "execution_count": 3,
   "id": "04896687-acda-4b2c-83cd-ecb5faee64b5",
   "metadata": {},
   "outputs": [
    {
     "name": "stdout",
     "output_type": "stream",
     "text": [
      "00 01 02 03 04 05 06 07 08 09 10 11 12 13 14 15 16 17 18 19 20 21 22 23 24 25 26 27 28 29 30 31 32 33 34 35 36 37 38 39 40 41 42 43 44 45 46 47 48 49 50 51 52 53 54 55 56 57 58 59 60 61 62 63 64 65 66 67 68 69 70 71 72 73 74 75 76 77 78 79 80 81 82 83 84 85 86 87 88 89 90 91 92 93 94 95 96 97 98 99 "
     ]
    }
   ],
   "source": [
    "# Генерируем числа\n",
    "\n",
    "for p in product(range(10), repeat=2):\n",
    "    print(''.join(map(str, p)), end=\" \")"
   ]
  },
  {
   "cell_type": "code",
   "execution_count": 4,
   "id": "cc0a3a01-e25a-4297-b900-7e722c9f8567",
   "metadata": {},
   "outputs": [
    {
     "name": "stdout",
     "output_type": "stream",
     "text": [
      "abc abd acb acd adb adc bac bad bca bcd bda bdc cab cad cba cbd cda cdb dab dac dba dbc dca dcb "
     ]
    }
   ],
   "source": [
    "# Генерируем k-перестановки\n",
    "\n",
    "from itertools import permutations\n",
    "\n",
    "for p in permutations(\"abcd\", 3):\n",
    "    print(\"\".join(p), end=\" \")"
   ]
  },
  {
   "cell_type": "code",
   "execution_count": 5,
   "id": "45bb98ac-baf8-419c-8d28-d3cf6f4b814d",
   "metadata": {},
   "outputs": [
    {
     "name": "stdout",
     "output_type": "stream",
     "text": [
      "2916\n"
     ]
    }
   ],
   "source": [
    "# Считаем число четырехзначных чисел, содержащих ровно одну цифру 7\n",
    "\n",
    "count = 0\n",
    "\n",
    "for p in product(range(10), repeat=4):\n",
    "    if p.count(7) == 1:\n",
    "        # print(\"\".join(map(str, p)), end=\" \")\n",
    "        count +=1\n",
    "\n",
    "print(count)"
   ]
  },
  {
   "cell_type": "code",
   "execution_count": null,
   "id": "0cf229fa-84d1-45bf-8de9-64feaaf606db",
   "metadata": {},
   "outputs": [],
   "source": []
  }
 ],
 "metadata": {
  "kernelspec": {
   "display_name": "Python 3",
   "language": "python",
   "name": "python3"
  },
  "language_info": {
   "codemirror_mode": {
    "name": "ipython",
    "version": 3
   },
   "file_extension": ".py",
   "mimetype": "text/x-python",
   "name": "python",
   "nbconvert_exporter": "python",
   "pygments_lexer": "ipython3",
   "version": "3.8.5"
  }
 },
 "nbformat": 4,
 "nbformat_minor": 5
}
