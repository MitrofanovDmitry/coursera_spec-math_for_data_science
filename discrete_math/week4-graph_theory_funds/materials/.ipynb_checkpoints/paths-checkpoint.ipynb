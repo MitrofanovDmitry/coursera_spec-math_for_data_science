{
 "cells": [
  {
   "cell_type": "markdown",
   "id": "7b976b11-8be7-45fc-84bd-6db6890bc6b2",
   "metadata": {},
   "source": [
    "# Достижимость, связность, поиск\n",
    "\n",
    "В этом ноутбуке мы посмотрим как работать с достижимостью в графе"
   ]
  },
  {
   "cell_type": "code",
   "execution_count": 1,
   "id": "d06ef58b-0ad1-4cce-be76-ecf23ae21da0",
   "metadata": {},
   "outputs": [],
   "source": [
    "# Задаем граф\n",
    "\n",
    "import networkx as nx\n",
    "\n",
    "graph = nx.Graph()\n",
    "\n",
    "graph.add_nodes_from([\"A\", \"B\", \"C\", \"D\", \"E\", \"F\"])\n",
    "graph.add_edges_from([(\"A\", \"B\"), (\"B\", \"C\"), (\"C\", \"A\"), (\"B\", \"D\"), (\"B\", \"E\"), (\"D\", \"E\")])"
   ]
  },
  {
   "cell_type": "code",
   "execution_count": 2,
   "id": "de36803d-69f4-4aeb-9d68-c03fc217366f",
   "metadata": {},
   "outputs": [
    {
     "data": {
      "image/png": "[encoded data removed]",
      "text/plain": [
       "<Figure size 432x288 with 1 Axes>"
      ]
     },
     "metadata": {},
     "output_type": "display_data"
    }
   ],
   "source": [
    "# Рисуем граф примерно как в слайдах\n",
    "\n",
    "import matplotlib.pyplot as plt\n",
    "%matplotlib inline\n",
    "\n",
    "pos = {\n",
    "    \"A\": (1, 1.5),\n",
    "    \"B\": (4, 0),\n",
    "    \"C\": (5, 2),\n",
    "    \"D\": (2.9, 2.2),\n",
    "    \"E\": (6, 0.5),\n",
    "    \"F\": (7.5, 1.5),\n",
    "}\n",
    "\n",
    "\n",
    "def draw_graph():\n",
    "    options = {\n",
    "        \"font_size\": 20,\n",
    "        \"node_size\": 1500,\n",
    "        \"node_color\": \"white\",\n",
    "        \"edgecolors\": \"black\",\n",
    "        \"linewidths\": 3,\n",
    "        \"width\": 3,\n",
    "    }\n",
    "    plt.axis([0, 8.5, -0.5, 2.7])\n",
    "    nx.draw_networkx(graph, pos, **options)\n",
    "    plt.show()\n",
    "\n",
    "\n",
    "draw_graph()"
   ]
  },
  {
   "cell_type": "code",
   "execution_count": 3,
   "id": "443603fa-7127-4113-9bf7-2d4c11cdc602",
   "metadata": {},
   "outputs": [
    {
     "data": {
      "text/plain": [
       "True"
      ]
     },
     "execution_count": 3,
     "metadata": {},
     "output_type": "execute_result"
    }
   ],
   "source": [
    "# Проверяем достижимость\n",
    "\n",
    "nx.has_path(graph, \"A\", \"B\")"
   ]
  },
  {
   "cell_type": "code",
   "execution_count": 4,
   "id": "a4588d68-8cda-4d99-a1fa-d3dec3a4ad6c",
   "metadata": {},
   "outputs": [
    {
     "data": {
      "text/plain": [
       "False"
      ]
     },
     "execution_count": 4,
     "metadata": {},
     "output_type": "execute_result"
    }
   ],
   "source": [
    "# Проверяем связность\n",
    "\n",
    "nx.is_connected(graph)"
   ]
  },
  {
   "cell_type": "code",
   "execution_count": 5,
   "id": "1d5fd945-6253-43f0-8755-38db877f5eec",
   "metadata": {},
   "outputs": [],
   "source": [
    "# Реализуем поиск в глубину\n",
    "\n",
    "clock = 0\n",
    "pre = {}\n",
    "post = {}\n",
    "\n",
    "\n",
    "def previsit(v):\n",
    "    global clock\n",
    "    pre[v] = clock\n",
    "    clock += 1\n",
    "\n",
    "\n",
    "def postvisit(v):\n",
    "    global clock\n",
    "    post[v] = clock\n",
    "    clock += 1\n",
    "\n",
    "\n",
    "visited = {}\n",
    "for v in graph:\n",
    "    visited[v] = False\n",
    "    \n",
    "    \n",
    "def explore(v):\n",
    "    visited[v] = True\n",
    "    previsit(v)\n",
    "    for u in graph[v]:\n",
    "        if not visited[u]:\n",
    "            explore(u)\n",
    "    postvisit(v)\n",
    "    \n",
    "\n",
    "def dfs():\n",
    "    for v in graph:\n",
    "        if not visited[v]:\n",
    "            explore(v)"
   ]
  },
  {
   "cell_type": "code",
   "execution_count": 6,
   "id": "24c5d7bd-ff56-4e08-9553-d012a56874fe",
   "metadata": {},
   "outputs": [
    {
     "name": "stdout",
     "output_type": "stream",
     "text": [
      "Pre:\t[('A', 0), ('B', 1), ('C', 2), ('D', 4), ('E', 5), ('F', 10)]\n",
      "Post:\t[('A', 9), ('B', 8), ('C', 3), ('D', 7), ('E', 6), ('F', 11)]\n"
     ]
    }
   ],
   "source": [
    "dfs()\n",
    "\n",
    "print(f\"Pre:\\t{sorted(pre.items())}\")\n",
    "print(f\"Post:\\t{sorted(post.items())}\")"
   ]
  },
  {
   "cell_type": "code",
   "execution_count": null,
   "id": "6557ffc3-b76a-447b-81d0-5687aafb7ebc",
   "metadata": {},
   "outputs": [],
   "source": []
  }
 ],
 "metadata": {
  "kernelspec": {
   "display_name": "mathds",
   "language": "python",
   "name": "mathds"
  },
  "language_info": {
   "codemirror_mode": {
    "name": "ipython",
    "version": 3
   },
   "file_extension": ".py",
   "mimetype": "text/x-python",
   "name": "python",
   "nbconvert_exporter": "python",
   "pygments_lexer": "ipython3",
   "version": "3.7.10"
  }
 },
 "nbformat": 4,
 "nbformat_minor": 5
}
