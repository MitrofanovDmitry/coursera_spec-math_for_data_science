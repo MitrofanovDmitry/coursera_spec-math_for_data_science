{
 "cells": [
  {
   "cell_type": "markdown",
   "id": "748bb33c-2f7a-4e32-8bad-a93798b3a0e3",
   "metadata": {},
   "source": [
    "# Графы\n",
    "\n",
    "В этом ноутбуке мы рассмотрим базовую работу с графами"
   ]
  },
  {
   "cell_type": "code",
   "execution_count": 1,
   "id": "e6c1ec11-ece4-4883-8aff-c6be1beb2453",
   "metadata": {},
   "outputs": [
    {
     "name": "stdout",
     "output_type": "stream",
     "text": [
      "Список ребер: [('A', 'B'), ('A', 'C'), ('B', 'C'), ('C', 'D'), ('C', 'E'), ('D', 'E')]\n",
      "Список вершин: ['A', 'B', 'C', 'D', 'E', 'F']\n",
      "Число ребер: 6\n",
      "Число вершин: 6\n"
     ]
    }
   ],
   "source": [
    "# Задаем граф\n",
    "\n",
    "import networkx as nx\n",
    "\n",
    "G = nx.Graph()\n",
    "\n",
    "G.add_edge(\"A\", \"B\")\n",
    "G.add_edges_from([(\"B\", \"C\"), (\"C\", \"A\"), (\"C\", \"D\"), (\"C\", \"E\"), (\"D\", \"E\")])\n",
    "G.add_node(\"F\")\n",
    "\n",
    "edges = list(G.edges())\n",
    "nodes = list(G.nodes())\n",
    "\n",
    "print(f\"Список ребер: {edges}\")\n",
    "print(f\"Список вершин: {nodes}\")\n",
    "\n",
    "num_nodes = G.number_of_nodes()\n",
    "num_edges = G.number_of_edges()\n",
    "\n",
    "print(f\"Число ребер: {num_edges}\")\n",
    "print(f\"Число вершин: {num_nodes}\")"
   ]
  },
  {
   "cell_type": "code",
   "execution_count": 2,
   "id": "055e6423-6e01-48c8-a277-c4f4471d3669",
   "metadata": {
    "scrolled": true,
    "tags": []
   },
   "outputs": [],
   "source": [
    "# Рисуем граф\n",
    "\n",
    "nx.draw_networkx(G)"
   ]
  },
  {
   "cell_type": "code",
   "execution_count": 3,
   "id": "397f782b-b6da-4395-b1d6-b96c1ec99632",
   "metadata": {},
   "outputs": [
    {
     "data": {
      "image/png": "[encoded data removed]",
      "text/plain": [
       "<Figure size 432x288 with 1 Axes>"
      ]
     },
     "metadata": {},
     "output_type": "display_data"
    }
   ],
   "source": [
    "# Рисуем граф примерно как в слайдах\n",
    "\n",
    "import matplotlib.pyplot as plt\n",
    "\n",
    "%matplotlib inline\n",
    "\n",
    "pos = {\n",
    "    \"A\": (1, 1.5),\n",
    "    \"B\": (4, 0),\n",
    "    \"C\": (5, 2),\n",
    "    \"D\": (2.9, 2.2),\n",
    "    \"E\": (6, 0.5),\n",
    "    \"F\": (7.5, 1.5),\n",
    "}\n",
    "\n",
    "def draw_graph():\n",
    "    options = {\n",
    "        \"font_size\": 20,\n",
    "        \"node_size\": 1500,\n",
    "        \"node_color\": \"white\",\n",
    "        \"edgecolors\": \"black\",\n",
    "        \"linewidths\": 3,\n",
    "        \"width\": 3\n",
    "    }\n",
    "    plt.axis([0, 8.5, -0.5, 2.7])\n",
    "    nx.draw_networkx(G, pos, **options)\n",
    "    plt.show()\n",
    "    \n",
    "draw_graph()"
   ]
  },
  {
   "cell_type": "code",
   "execution_count": 4,
   "id": "57a75bdc-1184-4d8d-84fb-992094c1c0f1",
   "metadata": {},
   "outputs": [
    {
     "data": {
      "text/plain": [
       "2"
      ]
     },
     "execution_count": 4,
     "metadata": {},
     "output_type": "execute_result"
    }
   ],
   "source": [
    "# Ищем степень вершины\n",
    "\n",
    "G.degree(\"A\")"
   ]
  },
  {
   "cell_type": "code",
   "execution_count": 5,
   "id": "47d488d8-b42a-49d4-b505-12f5f918bc5e",
   "metadata": {},
   "outputs": [
    {
     "data": {
      "text/plain": [
       "['B', 'C']"
      ]
     },
     "execution_count": 5,
     "metadata": {},
     "output_type": "execute_result"
    }
   ],
   "source": [
    "# Ищем соседей\n",
    "\n",
    "list(G[\"A\"])"
   ]
  },
  {
   "cell_type": "code",
   "execution_count": null,
   "id": "10c5a4ea-3a2c-4297-ab8b-d7af525ec12c",
   "metadata": {},
   "outputs": [],
   "source": []
  }
 ],
 "metadata": {
  "kernelspec": {
   "display_name": "mathds",
   "language": "python",
   "name": "mathds"
  },
  "language_info": {
   "codemirror_mode": {
    "name": "ipython",
    "version": 3
   },
   "file_extension": ".py",
   "mimetype": "text/x-python",
   "name": "python",
   "nbconvert_exporter": "python",
   "pygments_lexer": "ipython3",
   "version": "3.7.10"
  }
 },
 "nbformat": 4,
 "nbformat_minor": 5
}
