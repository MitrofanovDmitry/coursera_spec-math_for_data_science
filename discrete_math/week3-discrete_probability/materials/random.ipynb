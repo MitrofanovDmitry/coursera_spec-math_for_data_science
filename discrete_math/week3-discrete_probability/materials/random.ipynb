{
 "cells": [
  {
   "cell_type": "markdown",
   "id": "98de590d-28df-4e6b-b0a1-8aef534e363c",
   "metadata": {},
   "source": [
    "# Случайность\n",
    "\n",
    "В этом ноутбуке мы рассмотрим примеры работы с вероятностью в Python."
   ]
  },
  {
   "cell_type": "code",
   "execution_count": 1,
   "id": "1f99f565-083d-4442-a570-f9b910096dae",
   "metadata": {},
   "outputs": [
    {
     "name": "stdout",
     "output_type": "stream",
     "text": [
      "Случайное число от 0 до 5: 1\n",
      "Случайное число от 1 до 6: 6\n",
      "Случайная буква из A, B, C, D: A\n",
      "10 случайных выигрышей в лотерее: ['0', '0', '0', '0', '0', '100', '0', '100', '0', '0']\n",
      "Общий выигрыш: 200 рублей\n"
     ]
    }
   ],
   "source": [
    "import random as rand\n",
    "\n",
    "print(f\"Случайное число от 0 до 5: {rand.randrange(6)}\")\n",
    "print(f\"Случайное число от 1 до 6: {rand.randrange(1, 7)}\")\n",
    "print(f\"Случайная буква из A, B, C, D: {rand.choice('ABCD')}\")\n",
    "\n",
    "lottery_results = rand.choices([\"1000\", \"100\", \"0\"], [1, 10, 89], k=10)\n",
    "print(f\"10 случайных выигрышей в лотерее: {lottery_results}\")\n",
    "print(f\"Общий выигрыш: {100 * lottery_results.count('100') + 1000 * lottery_results.count('1000')} рублей\")"
   ]
  },
  {
   "cell_type": "code",
   "execution_count": 2,
   "id": "cf7ff045-c056-4636-a2cd-a989a170628e",
   "metadata": {},
   "outputs": [
    {
     "data": {
      "text/plain": [
       "[2, 7, 8, 6]"
      ]
     },
     "execution_count": 2,
     "metadata": {},
     "output_type": "execute_result"
    }
   ],
   "source": [
    "# Генерируем выборку без возвращений\n",
    "\n",
    "rand.sample(range(9), k=4)"
   ]
  },
  {
   "cell_type": "code",
   "execution_count": 3,
   "id": "42f4c777-99f6-4766-86d8-1b0950266cac",
   "metadata": {},
   "outputs": [
    {
     "data": {
      "text/plain": [
       "79"
      ]
     },
     "execution_count": 3,
     "metadata": {},
     "output_type": "execute_result"
    }
   ],
   "source": [
    "# Считаем среднюю оценку за тест\n",
    "\n",
    "from statistics import mean\n",
    "\n",
    "mean([78, 72, 87])"
   ]
  },
  {
   "cell_type": "code",
   "execution_count": 4,
   "id": "e2042617-ae34-4793-8879-fb7383e715bf",
   "metadata": {},
   "outputs": [
    {
     "data": {
      "text/plain": [
       "3.5141"
      ]
     },
     "execution_count": 4,
     "metadata": {},
     "output_type": "execute_result"
    }
   ],
   "source": [
    "# Считаем среднее значение на кубике в серии бросаний\n",
    "\n",
    "mean(i for i in rand.choices(range(1, 7), k=10000))"
   ]
  },
  {
   "cell_type": "code",
   "execution_count": null,
   "id": "dfba553a-ece2-4f84-8579-da2ebbf9414b",
   "metadata": {},
   "outputs": [],
   "source": []
  }
 ],
 "metadata": {
  "kernelspec": {
   "display_name": "Python 3",
   "language": "python",
   "name": "python3"
  },
  "language_info": {
   "codemirror_mode": {
    "name": "ipython",
    "version": 3
   },
   "file_extension": ".py",
   "mimetype": "text/x-python",
   "name": "python",
   "nbconvert_exporter": "python",
   "pygments_lexer": "ipython3",
   "version": "3.8.5"
  }
 },
 "nbformat": 4,
 "nbformat_minor": 5
}
