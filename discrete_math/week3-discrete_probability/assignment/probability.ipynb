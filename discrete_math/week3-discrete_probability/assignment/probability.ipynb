{
 "cells": [
  {
   "cell_type": "markdown",
   "id": "d46ac16f-40e4-4bbe-a93a-3a329faf1581",
   "metadata": {
    "tags": []
   },
   "source": [
    "# Приближенные подсчеты вероятностей\n",
    "\n",
    "На практике могут возникать сложные ситуации, связанные с вероятностью, в которых посчитать значения вероятностей и матожиданий явно не так просто. В таких ситуациях могут пригодиться случайные эксперименты и приблизительные подсчеты.\n",
    "\n",
    "В этом ноутбуке мы разберем пример ситуации, которая хоть и вполне поддается анализу, но выходит за рамки нашего курса. Для нее мы попробуем поставить случайный эксперимент."
   ]
  },
  {
   "cell_type": "code",
   "execution_count": 1,
   "id": "e6c34276-e2ce-481b-bc01-530611add780",
   "metadata": {},
   "outputs": [],
   "source": [
    "import random as rand"
   ]
  },
  {
   "cell_type": "markdown",
   "id": "85793d28-e111-4b8e-b61f-634dff8d5935",
   "metadata": {},
   "source": [
    "В следующем блоке мы задаем функцию, которая по числу и действию выдает новое число. Мы будем применять эту функцию к числам 0, 1, 2 и 3, и действиям 0 и 1. Если действие равно 0, то мы просто прибавляем к числу один и берем остаток по модулю 4. Например, если нам подали число 0, мы вернем 1, а если подали число 3, то мы вернем 0. Если действие равно 1, то мы делим поданное число на 2 нацело. То есть, если нам подали число 1, то мы вернем 0, а если подали число 2, то мы вернем 1."
   ]
  },
  {
   "cell_type": "code",
   "execution_count": 2,
   "id": "9dee3be5-5cda-4f58-8408-3cc9f5419ac4",
   "metadata": {},
   "outputs": [],
   "source": [
    "def next_num(curr_num, action):\n",
    "    if action == 0:\n",
    "        return (curr_num + 1) % 4\n",
    "    return curr_num // 2"
   ]
  },
  {
   "cell_type": "code",
   "execution_count": 3,
   "id": "6f1bebcd-b6b2-4645-98cd-0bf6f1d3804e",
   "metadata": {},
   "outputs": [
    {
     "data": {
      "text/plain": [
       "1"
      ]
     },
     "execution_count": 3,
     "metadata": {},
     "output_type": "execute_result"
    }
   ],
   "source": [
    "next_num(4, 0)"
   ]
  },
  {
   "cell_type": "markdown",
   "id": "2dcd8003-fc40-4c58-b822-4212ba8470be",
   "metadata": {},
   "source": [
    "В следующем блоке мы хотим поставить случайный эксперимент. Мы начинаем с числа curr_num=0. Дальше мы хотели бы выбрать действие action равным 0 или 1 равновероятно и случайно и применив функцию next_num к curr_num и action получить новое число. Дальше мы бы хотели повторить процедуру с новым числом, снова выбрав действие случайно, и так далее. Так мы хотим получить последовательность из num_steps чисел, первое из которых 0, а каждое следующее получается применением процедуры next_num к предыдущему числу и случайному действию (действие на каждом шаге нужно выбирать заново). \n",
    "\n",
    "Мы хотим посмотреть на две вещи: какова будет доля нулей в этой последовательности чисел и каково будет среднее значение чисел в последовательности. Для этого мы заводим два счетчика, в count_zero мы хотим считать число встретившихся нулей, а в count_sum — сумму всех встретившихся чисел. Значения этих счетчиков полезно обновлять при появлении каждого следующего числа. В конце мы делим получившиеся значения счетчиков на количество чисел и получаем долю нулей и среднее значение числа соответственно (вам делить на количество чисел не нужно, деление уже записано в строке return).\n",
    "\n",
    "Напишите недостающий код в указанном месте ниже."
   ]
  },
  {
   "cell_type": "code",
   "execution_count": 4,
   "id": "ec021fa6-d3f6-4730-beb1-28390eef43c4",
   "metadata": {},
   "outputs": [],
   "source": [
    "def experiment(num_steps):\n",
    "    count_zero = 0\n",
    "    count_sum = 0\n",
    "    curr_num = 0\n",
    "    \n",
    "    for i in range(num_steps):\n",
    "        action = rand.choice([0, 1])\n",
    "        curr_num = next_num(curr_num, action)\n",
    "        if curr_num == 0:\n",
    "            count_zero += 1\n",
    "        count_sum += curr_num\n",
    "        \n",
    "    return count_zero / num_steps, count_sum / num_steps"
   ]
  },
  {
   "cell_type": "code",
   "execution_count": 5,
   "id": "814af5ba-64c2-4128-a712-78b50290d3fb",
   "metadata": {},
   "outputs": [
    {
     "data": {
      "text/plain": [
       "(0.43, 0.84)"
      ]
     },
     "execution_count": 5,
     "metadata": {},
     "output_type": "execute_result"
    }
   ],
   "source": [
    "experiment(100)"
   ]
  },
  {
   "cell_type": "code",
   "execution_count": null,
   "id": "bb535c86-6554-47ad-9b00-c33d39236838",
   "metadata": {},
   "outputs": [],
   "source": []
  }
 ],
 "metadata": {
  "kernelspec": {
   "display_name": "Python 3",
   "language": "python",
   "name": "python3"
  },
  "language_info": {
   "codemirror_mode": {
    "name": "ipython",
    "version": 3
   },
   "file_extension": ".py",
   "mimetype": "text/x-python",
   "name": "python",
   "nbconvert_exporter": "python",
   "pygments_lexer": "ipython3",
   "version": "3.8.5"
  }
 },
 "nbformat": 4,
 "nbformat_minor": 5
}
