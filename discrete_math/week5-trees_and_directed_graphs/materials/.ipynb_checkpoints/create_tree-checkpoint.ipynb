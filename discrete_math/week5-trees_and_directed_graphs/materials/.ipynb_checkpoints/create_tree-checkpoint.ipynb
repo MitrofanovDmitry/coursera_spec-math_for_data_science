{
 "cells": [
  {
   "cell_type": "markdown",
   "id": "f38c3dde-2834-42c9-bfed-615e797fc50b",
   "metadata": {},
   "source": [
    "# Построение дерева с данным набором степеней вершин\n",
    "\n",
    "В одной из предыдущих задач мы разобрали несколько заданий, в которых нужно было по данному набору чисел понять, можно ли построить дерево с соответствующими степенями вершин. Мы знаем, что есть несколько препятствий к тому, чтобы такое дерево существовало (степени должны быть положительны, их сумма должна быть равна $2n-2$, где $n$ — число вершин). Если же эти ограничения были удовлетворены, нам удавалось построить такое дерево. Оказывается, что указанные ограничения единственно возможные, и если эти условия для набора выполнены, то дерево всегда существует!\n",
    "\n",
    "В этом ноутбуке мы опишем как построить дерево с данной последовательностью степеней вершин, если такое дерево существует. Попробуйте разобраться с этим кодом, и понять, как он работает."
   ]
  },
  {
   "cell_type": "code",
   "execution_count": 1,
   "id": "29dd2d91-a473-46dc-886c-8e1ed154ae65",
   "metadata": {},
   "outputs": [],
   "source": [
    "# Здесь мы загружаем библиотеку для работы с графами\n",
    "\n",
    "import networkx as nx"
   ]
  },
  {
   "cell_type": "code",
   "execution_count": 2,
   "id": "ed98f5dc-6542-4abb-afad-25a3ba599fa5",
   "metadata": {},
   "outputs": [],
   "source": [
    "# По списку чисел строим дерево с соответствующими степенями вершин\n",
    "\n",
    "def create_tree(degrees):\n",
    "    # Длина списка с заданными степенями вершин\n",
    "    n = len(degrees)\n",
    "    \n",
    "    # Проверяем условия, которым должен удовлетворять набор чисел\n",
    "    if any([elem <= 0 for elem in degrees]) or sum(degrees) != 2 * n - 2:\n",
    "        return None\n",
    "    \n",
    "    # Заводим граф и вершины в нем\n",
    "    graph = nx.Graph()\n",
    "    graph.add_nodes_from(range(n))\n",
    "    for _ in range(n - 1):\n",
    "        \n",
    "        # Выбираем вершину степени 1\n",
    "        i = degrees.index(1)\n",
    "        # Выбираем вершину макситмальной степени\n",
    "        j = max(zip(degrees, range(n)))[1]\n",
    "        \n",
    "        graph.add_edge(i, j)\n",
    "        \n",
    "        degrees[i] -= 1\n",
    "        degrees[j] -= 1\n",
    "    \n",
    "    return graph"
   ]
  },
  {
   "cell_type": "code",
   "execution_count": 3,
   "id": "0c6c13c9-5745-42c2-9591-83040d013557",
   "metadata": {},
   "outputs": [
    {
     "data": {
      "image/png": "[encoded data removed]",
      "text/plain": [
       "<Figure size 432x288 with 1 Axes>"
      ]
     },
     "metadata": {},
     "output_type": "display_data"
    }
   ],
   "source": [
    "%matplotlib inline\n",
    "\n",
    "graph = create_tree([4, 3, 4, 2, 1, 1, 1, 1, 1, 1, 1])\n",
    "nx.draw_networkx(graph)"
   ]
  },
  {
   "cell_type": "code",
   "execution_count": null,
   "id": "25ff45f9-cefe-4dc6-a237-53c3d86371f4",
   "metadata": {},
   "outputs": [],
   "source": []
  }
 ],
 "metadata": {
  "kernelspec": {
   "display_name": "mathds",
   "language": "python",
   "name": "mathds"
  },
  "language_info": {
   "codemirror_mode": {
    "name": "ipython",
    "version": 3
   },
   "file_extension": ".py",
   "mimetype": "text/x-python",
   "name": "python",
   "nbconvert_exporter": "python",
   "pygments_lexer": "ipython3",
   "version": "3.7.10"
  }
 },
 "nbformat": 4,
 "nbformat_minor": 5
}
