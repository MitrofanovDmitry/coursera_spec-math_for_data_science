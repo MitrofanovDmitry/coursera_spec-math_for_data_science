{
 "cells": [
  {
   "cell_type": "markdown",
   "id": "da7414f3-6bd6-41d7-aa57-a360bdac2801",
   "metadata": {},
   "source": [
    "# Числа сочетаний, с повторениями и без\n",
    "\n",
    "В этом ноутбуке мы посмотрим на примеры генерации чисел сочетаний. Мы также покажем примеры вычисления биномиальных коэффициентов."
   ]
  },
  {
   "cell_type": "code",
   "execution_count": 1,
   "id": "c468df66-a175-499a-9b85-f530042f0994",
   "metadata": {},
   "outputs": [
    {
     "name": "stdout",
     "output_type": "stream",
     "text": [
      "abc abd abe acd ace ade bcd bce bde cde "
     ]
    }
   ],
   "source": [
    "# Генерируем сочетания\n",
    "\n",
    "from itertools import combinations\n",
    "\n",
    "for c in combinations(\"abcde\", 3):\n",
    "    print(\"\".join(c), end=\" \")"
   ]
  },
  {
   "cell_type": "code",
   "execution_count": 2,
   "id": "f6347f66-ce64-466b-b6af-92ecc36922f6",
   "metadata": {},
   "outputs": [
    {
     "name": "stdout",
     "output_type": "stream",
     "text": [
      "aaa aab aac aad aae abb abc abd abe acc acd ace add ade aee bbb bbc bbd bbe bcc bcd bce bdd bde bee ccc ccd cce cdd cde cee ddd dde dee eee "
     ]
    }
   ],
   "source": [
    "# Генерируем сочетания с повторениями\n",
    "\n",
    "from itertools import combinations_with_replacement\n",
    "\n",
    "for c in combinations_with_replacement(\"abcde\", 3):\n",
    "    print(\"\".join(c), end=\" \")"
   ]
  },
  {
   "cell_type": "code",
   "execution_count": 3,
   "id": "f0a59bcd-a08e-400f-936b-88f69b2858a1",
   "metadata": {},
   "outputs": [
    {
     "name": "stdout",
     "output_type": "stream",
     "text": [
      "120\n"
     ]
    }
   ],
   "source": [
    "# Считаем число салатов размера 7 из помидоров, огурцов, перцев и баклажанов\n",
    "\n",
    "print(len(list(combinations_with_replacement(\"TCBE\", 7))))"
   ]
  },
  {
   "cell_type": "code",
   "execution_count": 4,
   "id": "6bff57d3-ae40-49ed-a86c-bada78be913c",
   "metadata": {},
   "outputs": [
    {
     "name": "stdout",
     "output_type": "stream",
     "text": [
      "50\n"
     ]
    }
   ],
   "source": [
    "# Считаем число салатов, в которых помидоров больше, чем огурцов\n",
    "\n",
    "count = 0\n",
    "\n",
    "for p in combinations_with_replacement(\"TCBE\", 7):\n",
    "    if p.count(\"T\") > p.count(\"C\"):\n",
    "        count += 1\n",
    "\n",
    "print(count)"
   ]
  },
  {
   "cell_type": "code",
   "execution_count": 5,
   "id": "b612c9fc-4da4-48f8-a35b-3ba127fde55c",
   "metadata": {},
   "outputs": [
    {
     "name": "stdout",
     "output_type": "stream",
     "text": [
      "35\n"
     ]
    }
   ],
   "source": [
    "# Считаем числа сочетаний по рекуррентному соотношению\n",
    "\n",
    "C = [[0 for _ in range(8)] for _ in range(8)]\n",
    "\n",
    "for n in range(8):\n",
    "    C[n][0] = 1\n",
    "    C[n][n] = 1\n",
    "    \n",
    "    for k in range(1, n):\n",
    "        C[n][k] = C[n - 1][k - 1] + C[n - 1][k]\n",
    "        \n",
    "print(C[7][4])"
   ]
  },
  {
   "cell_type": "code",
   "execution_count": 6,
   "id": "6aae6e57-ea07-44a9-88bf-df8d132dfbdd",
   "metadata": {},
   "outputs": [
    {
     "name": "stdout",
     "output_type": "stream",
     "text": [
      "35\n"
     ]
    }
   ],
   "source": [
    "# Считаем числа сочетаний\n",
    "\n",
    "C = [[0 for _ in range(8)] for _ in range(8)]\n",
    "\n",
    "for n in range(8):\n",
    "    C[n][0] = 1\n",
    "    C[n][n] = 1\n",
    "    \n",
    "    for k in range(1, n):\n",
    "        C[n][k] = n * C[n - 1][k - 1] // k\n",
    "        \n",
    "print(C[7][4])"
   ]
  },
  {
   "cell_type": "code",
   "execution_count": 7,
   "id": "4450ecc4-b7ad-465e-b798-a1a8fb1fcd4b",
   "metadata": {},
   "outputs": [
    {
     "name": "stdout",
     "output_type": "stream",
     "text": [
      "35\n"
     ]
    }
   ],
   "source": [
    "# Считаем числа сочетаний\n",
    "\n",
    "from scipy.special import comb\n",
    "\n",
    "print(comb(7, 4, exact=True))"
   ]
  },
  {
   "cell_type": "code",
   "execution_count": null,
   "id": "5869cad1-1429-4be4-b328-a94fe009b039",
   "metadata": {},
   "outputs": [],
   "source": []
  }
 ],
 "metadata": {
  "kernelspec": {
   "display_name": "skillbox",
   "language": "python",
   "name": "skillbox"
  },
  "language_info": {
   "codemirror_mode": {
    "name": "ipython",
    "version": 3
   },
   "file_extension": ".py",
   "mimetype": "text/x-python",
   "name": "python",
   "nbconvert_exporter": "python",
   "pygments_lexer": "ipython3",
   "version": "3.8.10"
  }
 },
 "nbformat": 4,
 "nbformat_minor": 5
}
