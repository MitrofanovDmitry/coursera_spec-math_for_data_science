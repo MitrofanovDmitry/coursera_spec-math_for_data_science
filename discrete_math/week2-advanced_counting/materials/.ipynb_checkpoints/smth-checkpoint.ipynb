{
 "cells": [
  {
   "cell_type": "markdown",
   "id": "c03f4017-fdcb-4ea6-821c-a72ad8d964d0",
   "metadata": {},
   "source": [
    "Следующий код выдает количество четырехзначных чисел с суммой цифр 10."
   ]
  },
  {
   "cell_type": "code",
   "execution_count": 1,
   "id": "ad0b3625-2ea2-4898-afb9-6a1ca360cdac",
   "metadata": {},
   "outputs": [
    {
     "name": "stdout",
     "output_type": "stream",
     "text": [
      "282\n"
     ]
    }
   ],
   "source": [
    "import itertools as it\n",
    "\n",
    "count = 0\n",
    "for d in it.product(range(10), repeat = 4):\n",
    "    if sum(d) == 10:\n",
    "        count += 1\n",
    "\n",
    "print(count)"
   ]
  },
  {
   "cell_type": "markdown",
   "id": "5165e1b9-1ea7-47b2-ba06-d7ade27ca625",
   "metadata": {},
   "source": [
    "Следующий код решает задачу про карты."
   ]
  },
  {
   "cell_type": "code",
   "execution_count": 22,
   "id": "898ce18c-2b32-4987-97ff-adc510461486",
   "metadata": {
    "tags": []
   },
   "outputs": [
    {
     "data": {
      "text/plain": [
       "22308"
      ]
     },
     "execution_count": 22,
     "metadata": {},
     "output_type": "execute_result"
    }
   ],
   "source": [
    "count = 0\n",
    "for comb in combinations(\n",
    "    list(\n",
    "        product(\n",
    "            [\"2\", \"3\", \"4\", \"5\", \"6\", \"7\", \"8\", \"9\", \"10\", \"VAL\", \"DAM\", \"KOR\", \"TUZ\"],\n",
    "            [\"chervi\", \"piki\", \"kresti\", \"bubi\"],\n",
    "        )\n",
    "    ),\n",
    "    5,\n",
    "):\n",
    "    if (list(zip(*comb))[1].count(\"chervi\") == 2 and \n",
    "        list(zip(*comb))[1].count(\"piki\") == 3):\n",
    "        count += 1\n",
    "\n",
    "count"
   ]
  },
  {
   "cell_type": "code",
   "execution_count": 2,
   "id": "df4e6f65-3d81-4bda-bdd6-fa72a3bb7d18",
   "metadata": {},
   "outputs": [
    {
     "name": "stdout",
     "output_type": "stream",
     "text": [
      "220\n"
     ]
    }
   ],
   "source": [
    "import itertools as it\n",
    "\n",
    "count = 0\n",
    "for d in it.product(range(10), repeat=4):\n",
    "    if sum(d) == 9:\n",
    "        count += 1\n",
    "\n",
    "print(count)"
   ]
  },
  {
   "cell_type": "code",
   "execution_count": 4,
   "id": "18968645-e85d-4dd9-a0b3-00aa11b764a2",
   "metadata": {},
   "outputs": [
    {
     "name": "stdout",
     "output_type": "stream",
     "text": [
      "715\n"
     ]
    }
   ],
   "source": [
    "import itertools as it\n",
    "\n",
    "count = 0\n",
    "for d in it.product(range(10), repeat=4):\n",
    "    if d[0] >= d[1] >= d[2] >= d[3]:\n",
    "        count += 1\n",
    "\n",
    "print(count)"
   ]
  },
  {
   "cell_type": "code",
   "execution_count": null,
   "id": "0dcc961f-2aac-4647-b722-0e0854083ecd",
   "metadata": {},
   "outputs": [],
   "source": []
  }
 ],
 "metadata": {
  "kernelspec": {
   "display_name": "Python 3",
   "language": "python",
   "name": "python3"
  },
  "language_info": {
   "codemirror_mode": {
    "name": "ipython",
    "version": 3
   },
   "file_extension": ".py",
   "mimetype": "text/x-python",
   "name": "python",
   "nbconvert_exporter": "python",
   "pygments_lexer": "ipython3",
   "version": "3.8.5"
  }
 },
 "nbformat": 4,
 "nbformat_minor": 5
}
