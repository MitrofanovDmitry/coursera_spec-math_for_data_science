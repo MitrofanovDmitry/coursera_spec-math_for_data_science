{
 "cells": [
  {
   "cell_type": "markdown",
   "id": "551d9ef5-3da8-4f13-81ee-266254714bd0",
   "metadata": {},
   "source": [
    "# Подсчеты на Python\n",
    "\n",
    "В этом ноутбуке нужно решить несколько задач на подсчеты с помощью программ а Python.\n",
    "\n",
    "В первой задаче мы хотим посчитать количество салатов, в которых помидоров столько же, сколько огурцов."
   ]
  },
  {
   "cell_type": "code",
   "execution_count": 1,
   "id": "f000d06f-3db4-44c5-881a-e9d3be146036",
   "metadata": {},
   "outputs": [],
   "source": [
    "from itertools import combinations\n",
    "from itertools import combinations_with_replacement "
   ]
  },
  {
   "cell_type": "code",
   "execution_count": 2,
   "id": "79978426-20fe-488d-a508-c735d2818d03",
   "metadata": {},
   "outputs": [],
   "source": [
    "# Считаем число салатов, в которых помидоров столько же, сколько огурцов\n",
    "\n",
    "def C_equals_T():\n",
    "    count = 0\n",
    "\n",
    "    for p in combinations_with_replacement(\"TCBE\", 7):\n",
    "        if p.count(\"T\") == p.count(\"C\"):\n",
    "            count += 1\n",
    "        \n",
    "    return count"
   ]
  },
  {
   "cell_type": "markdown",
   "id": "66ab089c-6cf7-418e-a355-bd96d64dca9c",
   "metadata": {},
   "source": [
    "В следующей задаче мы хотим посчитать количество салатов размера 7 из тех же четырех ингредиентов, но только тех, в которых нет помидоров."
   ]
  },
  {
   "cell_type": "code",
   "execution_count": 3,
   "id": "96da6b01-49e7-4320-bea9-1ebfaa1e4165",
   "metadata": {},
   "outputs": [],
   "source": [
    "# Считаем число салатов, в которых нет помидоров\n",
    "\n",
    "def no_Ts():\n",
    "    count = 0\n",
    "    \n",
    "    for comb in combinations_with_replacement(\"TCBE\", 7):\n",
    "        if comb.count(\"T\") == 0:\n",
    "            count += 1\n",
    "    \n",
    "    return count"
   ]
  },
  {
   "cell_type": "code",
   "execution_count": null,
   "id": "1e0b0bac-dcda-448f-96b2-a7bfa52ada20",
   "metadata": {},
   "outputs": [],
   "source": []
  }
 ],
 "metadata": {
  "kernelspec": {
   "display_name": "skillbox",
   "language": "python",
   "name": "skillbox"
  },
  "language_info": {
   "codemirror_mode": {
    "name": "ipython",
    "version": 3
   },
   "file_extension": ".py",
   "mimetype": "text/x-python",
   "name": "python",
   "nbconvert_exporter": "python",
   "pygments_lexer": "ipython3",
   "version": "3.8.10"
  }
 },
 "nbformat": 4,
 "nbformat_minor": 5
}
