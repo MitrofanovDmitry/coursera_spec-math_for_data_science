{
 "cells": [
  {
   "cell_type": "code",
   "execution_count": 1,
   "id": "educational-vault",
   "metadata": {},
   "outputs": [],
   "source": [
    "import itertools as it"
   ]
  },
  {
   "cell_type": "markdown",
   "id": "improving-hampshire",
   "metadata": {},
   "source": [
    "# Тест 1 Распределение заданий между людьми"
   ]
  },
  {
   "cell_type": "code",
   "execution_count": 2,
   "id": "fitted-bandwidth",
   "metadata": {},
   "outputs": [
    {
     "name": "stdout",
     "output_type": "stream",
     "text": [
      "3024\n"
     ]
    }
   ],
   "source": [
    "counter = 0\n",
    "\n",
    "for comb in it.permutations(range(9), 4):\n",
    "    counter += 1\n",
    "\n",
    "print(counter)"
   ]
  },
  {
   "cell_type": "code",
   "execution_count": 3,
   "id": "complicated-forth",
   "metadata": {},
   "outputs": [
    {
     "data": {
      "text/plain": [
       "262144"
      ]
     },
     "execution_count": 3,
     "metadata": {},
     "output_type": "execute_result"
    }
   ],
   "source": [
    "4 ** 9"
   ]
  },
  {
   "cell_type": "markdown",
   "id": "respected-failure",
   "metadata": {},
   "source": [
    "# Тест 2 Распределение конфет между детьми"
   ]
  },
  {
   "cell_type": "code",
   "execution_count": 4,
   "id": "aerial-internship",
   "metadata": {},
   "outputs": [
    {
     "name": "stdout",
     "output_type": "stream",
     "text": [
      "54264\n"
     ]
    }
   ],
   "source": [
    "counter = 0\n",
    "\n",
    "for comb in it.combinations_with_replacement(range(7), 15):\n",
    "    counter += 1\n",
    "    \n",
    "print(counter)"
   ]
  },
  {
   "cell_type": "code",
   "execution_count": 5,
   "id": "caroline-option",
   "metadata": {},
   "outputs": [
    {
     "name": "stdout",
     "output_type": "stream",
     "text": [
      "3003\n"
     ]
    }
   ],
   "source": [
    "counter = 0\n",
    "\n",
    "for comb in it.combinations_with_replacement(range(7), 15):\n",
    "    if (comb.count(0) > 0 and \n",
    "        comb.count(1) > 0 and\n",
    "        comb.count(2) > 0 and\n",
    "        comb.count(3) > 0 and\n",
    "        comb.count(4) > 0 and\n",
    "        comb.count(5) > 0 and \n",
    "        comb.count(6) > 0):\n",
    "        counter += 1\n",
    "    \n",
    "print(counter)"
   ]
  },
  {
   "cell_type": "code",
   "execution_count": 6,
   "id": "compressed-explanation",
   "metadata": {},
   "outputs": [
    {
     "name": "stdout",
     "output_type": "stream",
     "text": [
      "3003\n"
     ]
    }
   ],
   "source": [
    "# или так\n",
    "# выдали по одной конфете каждому - осталось 8 конфет,\n",
    "# распределяем по детям (теперь уже можно повторять)\n",
    "n_childs = 7\n",
    "n_candies = 15\n",
    "\n",
    "counter = 0\n",
    "\n",
    "for comb in it.combinations_with_replacement(range(n_childs), n_candies - n_childs):\n",
    "    counter += 1\n",
    "\n",
    "print(counter)"
   ]
  },
  {
   "cell_type": "markdown",
   "id": "julian-omaha",
   "metadata": {},
   "source": [
    "# Тест 3 Числа с фиксированной суммой цифр"
   ]
  },
  {
   "cell_type": "code",
   "execution_count": 56,
   "id": "nuclear-acrylic",
   "metadata": {},
   "outputs": [
    {
     "name": "stdout",
     "output_type": "stream",
     "text": [
      "220\n"
     ]
    }
   ],
   "source": [
    "count = 0\n",
    "\n",
    "for prod in it.product(range(10), repeat=4):\n",
    "    if sum(prod) == 9:\n",
    "        count += 1\n",
    "\n",
    "print(count)"
   ]
  },
  {
   "cell_type": "code",
   "execution_count": 57,
   "id": "sapphire-cheat",
   "metadata": {},
   "outputs": [
    {
     "name": "stdout",
     "output_type": "stream",
     "text": [
      "220\n"
     ]
    }
   ],
   "source": [
    "# Или так\n",
    "count = 0\n",
    "\n",
    "for comb in it.combinations_with_replacement(range(4), 9):\n",
    "    count += 1\n",
    "\n",
    "print(count)"
   ]
  },
  {
   "cell_type": "code",
   "execution_count": 58,
   "id": "israeli-progressive",
   "metadata": {},
   "outputs": [
    {
     "name": "stdout",
     "output_type": "stream",
     "text": [
      "282\n"
     ]
    }
   ],
   "source": [
    "count = 0\n",
    "\n",
    "for prod in it.product(range(10), repeat=4):\n",
    "    if sum(prod) == 10:\n",
    "        count += 1\n",
    "\n",
    "print(count)"
   ]
  },
  {
   "cell_type": "code",
   "execution_count": 59,
   "id": "potential-chamber",
   "metadata": {},
   "outputs": [
    {
     "name": "stdout",
     "output_type": "stream",
     "text": [
      "282\n"
     ]
    }
   ],
   "source": [
    "# Или так\n",
    "count = 0\n",
    "\n",
    "for comb in it.combinations_with_replacement(range(4), 10):\n",
    "    count += 1\n",
    "\n",
    "print(count - 4)"
   ]
  },
  {
   "cell_type": "markdown",
   "id": "rural-advice",
   "metadata": {},
   "source": [
    "# Тест 4 Числа с невозрастающими цифрами"
   ]
  },
  {
   "cell_type": "code",
   "execution_count": 64,
   "id": "dimensional-foster",
   "metadata": {},
   "outputs": [
    {
     "name": "stdout",
     "output_type": "stream",
     "text": [
      "715\n"
     ]
    }
   ],
   "source": [
    "count = 0\n",
    "\n",
    "for comb in it.combinations_with_replacement(range(10), 4):\n",
    "    count += 1\n",
    "    \n",
    "print(count)"
   ]
  },
  {
   "cell_type": "markdown",
   "id": "metallic-ocean",
   "metadata": {},
   "source": [
    "# Тест 5 Распределение студентов по группам"
   ]
  },
  {
   "cell_type": "code",
   "execution_count": 81,
   "id": "proof-undergraduate",
   "metadata": {},
   "outputs": [
    {
     "name": "stdout",
     "output_type": "stream",
     "text": [
      "10395\n"
     ]
    }
   ],
   "source": [
    "import math\n",
    "\n",
    "students = 12\n",
    "\n",
    "res = 1\n",
    "while students:\n",
    "    count = 0\n",
    "    for comb in it.combinations(range(students), 2):\n",
    "        count += 1\n",
    "    res *= count\n",
    "    students -= 2\n",
    "    \n",
    "print(res // math.factorial(6))"
   ]
  },
  {
   "cell_type": "markdown",
   "id": "induced-franklin",
   "metadata": {},
   "source": [
    "# Тест 6 Разные задачи"
   ]
  },
  {
   "cell_type": "code",
   "execution_count": 86,
   "id": "senior-insulin",
   "metadata": {},
   "outputs": [
    {
     "name": "stdout",
     "output_type": "stream",
     "text": [
      "56\n"
     ]
    }
   ],
   "source": [
    "count = 0\n",
    "\n",
    "for comb in it.combinations(range(8), 3):\n",
    "    count += 1\n",
    "\n",
    "print(count)"
   ]
  },
  {
   "cell_type": "code",
   "execution_count": null,
   "id": "amateur-macintosh",
   "metadata": {},
   "outputs": [],
   "source": []
  },
  {
   "cell_type": "code",
   "execution_count": 84,
   "id": "complimentary-jones",
   "metadata": {},
   "outputs": [
    {
     "name": "stdout",
     "output_type": "stream",
     "text": [
      "56\n"
     ]
    }
   ],
   "source": [
    "count = 0\n",
    "\n",
    "for comb in it.combinations(range(8), 3):\n",
    "    count += 1\n",
    "\n",
    "print(count)"
   ]
  },
  {
   "cell_type": "code",
   "execution_count": 85,
   "id": "accredited-local",
   "metadata": {},
   "outputs": [
    {
     "name": "stdout",
     "output_type": "stream",
     "text": [
      "10\n"
     ]
    }
   ],
   "source": [
    "count = 0\n",
    "\n",
    "for comb in it.combinations(range(5), 2):\n",
    "    count += 1\n",
    "\n",
    "print(count)"
   ]
  },
  {
   "cell_type": "code",
   "execution_count": null,
   "id": "attempted-wrong",
   "metadata": {},
   "outputs": [],
   "source": []
  },
  {
   "cell_type": "code",
   "execution_count": 97,
   "id": "defined-consolidation",
   "metadata": {},
   "outputs": [
    {
     "name": "stdout",
     "output_type": "stream",
     "text": [
      "13983816\n"
     ]
    }
   ],
   "source": [
    "count = 0\n",
    "\n",
    "for comb in it.combinations(range(49), 6):\n",
    "    count += 1\n",
    "\n",
    "print(count)"
   ]
  },
  {
   "cell_type": "code",
   "execution_count": null,
   "id": "stuck-entrepreneur",
   "metadata": {},
   "outputs": [],
   "source": []
  },
  {
   "cell_type": "code",
   "execution_count": 101,
   "id": "grand-mobility",
   "metadata": {},
   "outputs": [
    {
     "name": "stdout",
     "output_type": "stream",
     "text": [
      "15\n"
     ]
    }
   ],
   "source": [
    "count = 0\n",
    "\n",
    "for comb in it.combinations(range(6), 4):\n",
    "    count += 1\n",
    "\n",
    "print(count)"
   ]
  },
  {
   "cell_type": "code",
   "execution_count": 102,
   "id": "atmospheric-characteristic",
   "metadata": {},
   "outputs": [
    {
     "name": "stdout",
     "output_type": "stream",
     "text": [
      "903\n"
     ]
    }
   ],
   "source": [
    "count = 0\n",
    "\n",
    "for comb in it.combinations(range(43), 2):\n",
    "    count += 1\n",
    "\n",
    "print(count)"
   ]
  },
  {
   "cell_type": "code",
   "execution_count": 103,
   "id": "unsigned-cuisine",
   "metadata": {},
   "outputs": [
    {
     "data": {
      "text/plain": [
       "13545"
      ]
     },
     "execution_count": 103,
     "metadata": {},
     "output_type": "execute_result"
    }
   ],
   "source": [
    "15 * 903"
   ]
  },
  {
   "cell_type": "code",
   "execution_count": null,
   "id": "august-logistics",
   "metadata": {},
   "outputs": [],
   "source": []
  }
 ],
 "metadata": {
  "kernelspec": {
   "display_name": "Python 3",
   "language": "python",
   "name": "python3"
  },
  "language_info": {
   "codemirror_mode": {
    "name": "ipython",
    "version": 3
   },
   "file_extension": ".py",
   "mimetype": "text/x-python",
   "name": "python",
   "nbconvert_exporter": "python",
   "pygments_lexer": "ipython3",
   "version": "3.7.9"
  }
 },
 "nbformat": 4,
 "nbformat_minor": 5
}
