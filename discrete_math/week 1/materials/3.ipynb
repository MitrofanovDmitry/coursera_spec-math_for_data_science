{
 "cells": [
  {
   "cell_type": "markdown",
   "id": "modified-infrared",
   "metadata": {},
   "source": [
    "# Тест 1"
   ]
  },
  {
   "cell_type": "code",
   "execution_count": 3,
   "id": "strange-rehabilitation",
   "metadata": {},
   "outputs": [
    {
     "data": {
      "text/plain": [
       "6.0"
      ]
     },
     "execution_count": 3,
     "metadata": {},
     "output_type": "execute_result"
    }
   ],
   "source": [
    "4 * (4 - 1) / 2"
   ]
  },
  {
   "cell_type": "code",
   "execution_count": 4,
   "id": "underlying-tumor",
   "metadata": {},
   "outputs": [
    {
     "data": {
      "text/plain": [
       "10.0"
      ]
     },
     "execution_count": 4,
     "metadata": {},
     "output_type": "execute_result"
    }
   ],
   "source": [
    "5 * (5 - 1) / 2"
   ]
  },
  {
   "cell_type": "code",
   "execution_count": 5,
   "id": "excited-engineer",
   "metadata": {},
   "outputs": [
    {
     "data": {
      "text/plain": [
       "45.0"
      ]
     },
     "execution_count": 5,
     "metadata": {},
     "output_type": "execute_result"
    }
   ],
   "source": [
    "10 * (10 - 1) / 2"
   ]
  },
  {
   "cell_type": "markdown",
   "id": "governmental-reservation",
   "metadata": {},
   "source": [
    "# Тест 2"
   ]
  },
  {
   "cell_type": "code",
   "execution_count": 19,
   "id": "rocky-figure",
   "metadata": {},
   "outputs": [],
   "source": [
    "from itertools import combinations"
   ]
  },
  {
   "cell_type": "code",
   "execution_count": 24,
   "id": "finite-phenomenon",
   "metadata": {},
   "outputs": [
    {
     "data": {
      "text/plain": [
       "28"
      ]
     },
     "execution_count": 24,
     "metadata": {},
     "output_type": "execute_result"
    }
   ],
   "source": [
    "cntr = 0\n",
    "for c in combinations(range(8), 2):\n",
    "    cntr += 1\n",
    "cntr"
   ]
  },
  {
   "cell_type": "code",
   "execution_count": 25,
   "id": "civic-provision",
   "metadata": {},
   "outputs": [
    {
     "data": {
      "text/plain": [
       "56"
      ]
     },
     "execution_count": 25,
     "metadata": {},
     "output_type": "execute_result"
    }
   ],
   "source": [
    "cntr = 0\n",
    "for c in combinations(range(8), 3):\n",
    "    cntr += 1\n",
    "cntr"
   ]
  },
  {
   "cell_type": "markdown",
   "id": "comprehensive-straight",
   "metadata": {},
   "source": [
    "# Тест 3"
   ]
  },
  {
   "cell_type": "code",
   "execution_count": 53,
   "id": "younger-implement",
   "metadata": {},
   "outputs": [
    {
     "data": {
      "text/plain": [
       "924"
      ]
     },
     "execution_count": 53,
     "metadata": {},
     "output_type": "execute_result"
    }
   ],
   "source": [
    "cntr = 0\n",
    "for c in combinations(range(12), 6):\n",
    "    cntr += 1\n",
    "cntr"
   ]
  },
  {
   "cell_type": "code",
   "execution_count": 54,
   "id": "tribal-ancient",
   "metadata": {},
   "outputs": [
    {
     "data": {
      "text/plain": [
       "462.0"
      ]
     },
     "execution_count": 54,
     "metadata": {},
     "output_type": "execute_result"
    }
   ],
   "source": [
    "cntr = 0\n",
    "for c in combinations(range(12), 6):\n",
    "    cntr += 1\n",
    "cntr / 2"
   ]
  },
  {
   "cell_type": "code",
   "execution_count": null,
   "id": "bearing-novelty",
   "metadata": {},
   "outputs": [],
   "source": []
  }
 ],
 "metadata": {
  "kernelspec": {
   "display_name": "Python 3",
   "language": "python",
   "name": "python3"
  },
  "language_info": {
   "codemirror_mode": {
    "name": "ipython",
    "version": 3
   },
   "file_extension": ".py",
   "mimetype": "text/x-python",
   "name": "python",
   "nbconvert_exporter": "python",
   "pygments_lexer": "ipython3",
   "version": "3.7.9"
  }
 },
 "nbformat": 4,
 "nbformat_minor": 5
}
