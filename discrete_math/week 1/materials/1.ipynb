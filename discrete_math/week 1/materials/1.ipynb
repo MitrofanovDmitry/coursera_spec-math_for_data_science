{
 "cells": [
  {
   "cell_type": "markdown",
   "id": "sticky-imaging",
   "metadata": {},
   "source": [
    "# Тест 1"
   ]
  },
  {
   "cell_type": "code",
   "execution_count": 9,
   "id": "humanitarian-performer",
   "metadata": {},
   "outputs": [
    {
     "data": {
      "text/plain": [
       "13"
      ]
     },
     "execution_count": 9,
     "metadata": {},
     "output_type": "execute_result"
    }
   ],
   "source": [
    "k = 0\n",
    "for i in range(1, 20 + 1):\n",
    "    if i % 2 == 0 or i % 3 == 0:\n",
    "        k += 1\n",
    "        \n",
    "k"
   ]
  },
  {
   "cell_type": "markdown",
   "id": "adult-deficit",
   "metadata": {},
   "source": [
    "# Тест 2"
   ]
  },
  {
   "cell_type": "code",
   "execution_count": 16,
   "id": "together-philosophy",
   "metadata": {},
   "outputs": [
    {
     "data": {
      "text/plain": [
       "4"
      ]
     },
     "execution_count": 16,
     "metadata": {},
     "output_type": "execute_result"
    }
   ],
   "source": [
    "A = set([1, 3, 2, 0, 1, 3])\n",
    "len(A)"
   ]
  },
  {
   "cell_type": "code",
   "execution_count": 24,
   "id": "exclusive-monroe",
   "metadata": {},
   "outputs": [
    {
     "name": "stdout",
     "output_type": "stream",
     "text": [
      "True\n",
      "False\n",
      "True\n",
      "True\n",
      "False\n"
     ]
    }
   ],
   "source": [
    "A = {1, 3, 4, 7, 10, 11}\n",
    "print({1, 7, 11}.issubset(A))\n",
    "print({1, 3, 4, 8}.issubset(A))\n",
    "print(set().issubset(A))\n",
    "print({1, 3, 4, 7, 10, 11}.issubset(A))\n",
    "print({1, 3, 4, 5, 7, 10, 11}.issubset(A))"
   ]
  },
  {
   "cell_type": "code",
   "execution_count": 25,
   "id": "similar-exemption",
   "metadata": {},
   "outputs": [
    {
     "name": "stdout",
     "output_type": "stream",
     "text": [
      "{1, 2, 5}\n"
     ]
    }
   ],
   "source": [
    "A = {1, 2, 4, 5, 6}\n",
    "B = {1, 2, 3, 5, 7}\n",
    "print(A.intersection(B))"
   ]
  },
  {
   "cell_type": "code",
   "execution_count": 26,
   "id": "living-screw",
   "metadata": {},
   "outputs": [
    {
     "name": "stdout",
     "output_type": "stream",
     "text": [
      "{1, 2, 3, 4, 5, 6, 7}\n"
     ]
    }
   ],
   "source": [
    "A = {1, 2, 4, 5, 7}\n",
    "B = {1, 2, 3, 5, 6}\n",
    "print(A.union(B))"
   ]
  },
  {
   "cell_type": "markdown",
   "id": "respective-engine",
   "metadata": {},
   "source": [
    "# Тест 3"
   ]
  },
  {
   "cell_type": "code",
   "execution_count": 27,
   "id": "cubic-efficiency",
   "metadata": {},
   "outputs": [
    {
     "data": {
      "text/plain": [
       "6"
      ]
     },
     "execution_count": 27,
     "metadata": {},
     "output_type": "execute_result"
    }
   ],
   "source": [
    "25 + 24 - 43"
   ]
  },
  {
   "cell_type": "code",
   "execution_count": 28,
   "id": "orange-clerk",
   "metadata": {},
   "outputs": [
    {
     "data": {
      "text/plain": [
       "667"
      ]
     },
     "execution_count": 28,
     "metadata": {},
     "output_type": "execute_result"
    }
   ],
   "source": [
    "k = 0\n",
    "for i in range(1, 1000 + 1):\n",
    "    if i % 2 == 0 or i % 3 == 0:\n",
    "        k += 1\n",
    "        \n",
    "k"
   ]
  },
  {
   "cell_type": "code",
   "execution_count": 40,
   "id": "opposite-profit",
   "metadata": {},
   "outputs": [
    {
     "data": {
      "text/plain": [
       "333"
      ]
     },
     "execution_count": 40,
     "metadata": {},
     "output_type": "execute_result"
    }
   ],
   "source": [
    "k = 0\n",
    "for i in range(1, 1000 + 1):\n",
    "    if i % 2 != 0 and i % 3 != 0:\n",
    "        k += 1\n",
    "        \n",
    "k"
   ]
  },
  {
   "cell_type": "markdown",
   "id": "parliamentary-pacific",
   "metadata": {},
   "source": [
    "# Тест 4"
   ]
  },
  {
   "cell_type": "raw",
   "id": "august-native",
   "metadata": {},
   "source": [
    "8"
   ]
  },
  {
   "cell_type": "markdown",
   "id": "running-advance",
   "metadata": {},
   "source": [
    "# Тест 5"
   ]
  },
  {
   "cell_type": "code",
   "execution_count": 42,
   "id": "invisible-layer",
   "metadata": {},
   "outputs": [
    {
     "data": {
      "text/plain": [
       "84"
      ]
     },
     "execution_count": 42,
     "metadata": {},
     "output_type": "execute_result"
    }
   ],
   "source": [
    "12 * 7"
   ]
  },
  {
   "cell_type": "code",
   "execution_count": 44,
   "id": "understood-selection",
   "metadata": {},
   "outputs": [
    {
     "data": {
      "text/plain": [
       "42"
      ]
     },
     "execution_count": 44,
     "metadata": {},
     "output_type": "execute_result"
    }
   ],
   "source": [
    "6 * 7"
   ]
  },
  {
   "cell_type": "markdown",
   "id": "completed-filing",
   "metadata": {},
   "source": [
    "# Тест 6"
   ]
  },
  {
   "cell_type": "code",
   "execution_count": 47,
   "id": "sensitive-talent",
   "metadata": {},
   "outputs": [
    {
     "data": {
      "text/plain": [
       "32"
      ]
     },
     "execution_count": 47,
     "metadata": {},
     "output_type": "execute_result"
    }
   ],
   "source": [
    "8 * 4"
   ]
  },
  {
   "cell_type": "code",
   "execution_count": 48,
   "id": "alternative-contact",
   "metadata": {},
   "outputs": [
    {
     "data": {
      "text/plain": [
       "42"
      ]
     },
     "execution_count": 48,
     "metadata": {},
     "output_type": "execute_result"
    }
   ],
   "source": [
    "2 * 7 * 3"
   ]
  },
  {
   "cell_type": "code",
   "execution_count": 49,
   "id": "pediatric-julian",
   "metadata": {},
   "outputs": [
    {
     "data": {
      "text/plain": [
       "37"
      ]
     },
     "execution_count": 49,
     "metadata": {},
     "output_type": "execute_result"
    }
   ],
   "source": [
    "4 * 4 + 7 * 3"
   ]
  },
  {
   "cell_type": "code",
   "execution_count": null,
   "id": "necessary-values",
   "metadata": {},
   "outputs": [],
   "source": []
  }
 ],
 "metadata": {
  "kernelspec": {
   "display_name": "Python 3",
   "language": "python",
   "name": "python3"
  },
  "language_info": {
   "codemirror_mode": {
    "name": "ipython",
    "version": 3
   },
   "file_extension": ".py",
   "mimetype": "text/x-python",
   "name": "python",
   "nbconvert_exporter": "python",
   "pygments_lexer": "ipython3",
   "version": "3.7.9"
  }
 },
 "nbformat": 4,
 "nbformat_minor": 5
}
