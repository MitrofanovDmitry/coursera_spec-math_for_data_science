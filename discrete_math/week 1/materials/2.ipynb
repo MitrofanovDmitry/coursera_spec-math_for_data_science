{
 "cells": [
  {
   "cell_type": "markdown",
   "id": "developing-windsor",
   "metadata": {},
   "source": [
    "# Тест 1"
   ]
  },
  {
   "cell_type": "code",
   "execution_count": 2,
   "id": "early-witch",
   "metadata": {},
   "outputs": [
    {
     "data": {
      "text/plain": [
       "17576"
      ]
     },
     "execution_count": 2,
     "metadata": {},
     "output_type": "execute_result"
    }
   ],
   "source": [
    "26 ** 3"
   ]
  },
  {
   "cell_type": "markdown",
   "id": "infrared-funeral",
   "metadata": {},
   "source": [
    "# Тест 2"
   ]
  },
  {
   "cell_type": "code",
   "execution_count": 6,
   "id": "infrared-intensity",
   "metadata": {},
   "outputs": [
    {
     "data": {
      "text/plain": [
       "120"
      ]
     },
     "execution_count": 6,
     "metadata": {},
     "output_type": "execute_result"
    }
   ],
   "source": [
    "5 * 4 * 3 * 2 * 1"
   ]
  },
  {
   "cell_type": "code",
   "execution_count": 11,
   "id": "embedded-curve",
   "metadata": {},
   "outputs": [
    {
     "data": {
      "text/plain": [
       "768"
      ]
     },
     "execution_count": 11,
     "metadata": {},
     "output_type": "execute_result"
    }
   ],
   "source": [
    "4 * 3 * 8 * 8"
   ]
  }
 ],
 "metadata": {
  "kernelspec": {
   "display_name": "Python 3",
   "language": "python",
   "name": "python3"
  },
  "language_info": {
   "codemirror_mode": {
    "name": "ipython",
    "version": 3
   },
   "file_extension": ".py",
   "mimetype": "text/x-python",
   "name": "python",
   "nbconvert_exporter": "python",
   "pygments_lexer": "ipython3",
   "version": "3.7.9"
  }
 },
 "nbformat": 4,
 "nbformat_minor": 5
}
